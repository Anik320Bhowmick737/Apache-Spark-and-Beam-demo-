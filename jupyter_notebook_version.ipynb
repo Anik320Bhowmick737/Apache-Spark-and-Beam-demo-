{
  "nbformat": 4,
  "nbformat_minor": 0,
  "metadata": {
    "colab": {
      "provenance": []
    },
    "kernelspec": {
      "name": "python3",
      "display_name": "Python 3"
    },
    "language_info": {
      "name": "python"
    }
  },
  "cells": [
    {
      "cell_type": "code",
      "source": [
        "import multiprocessing\n",
        "\n",
        "# Get the number of CPU cores\n",
        "num_cores = multiprocessing.cpu_count()\n",
        "\n",
        "print(f\"Number of available CPU cores: {num_cores}\")"
      ],
      "metadata": {
        "colab": {
          "base_uri": "https://localhost:8080/"
        },
        "id": "eRmtW-RJlu9e",
        "outputId": "0e2f64b0-62ee-494b-d7e0-2008a810bb30"
      },
      "execution_count": 1,
      "outputs": [
        {
          "output_type": "stream",
          "name": "stdout",
          "text": [
            "Number of available CPU cores: 2\n"
          ]
        }
      ]
    },
    {
      "cell_type": "code",
      "execution_count": 2,
      "metadata": {
        "colab": {
          "base_uri": "https://localhost:8080/"
        },
        "id": "kMl6lojvi1fd",
        "outputId": "eecb07cd-f9be-46cd-d1ee-328f3fe5cc5d"
      },
      "outputs": [
        {
          "output_type": "stream",
          "name": "stdout",
          "text": [
            "Collecting pyspark\n",
            "  Downloading pyspark-3.5.1.tar.gz (317.0 MB)\n",
            "\u001b[2K     \u001b[90m━━━━━━━━━━━━━━━━━━━━━━━━━━━━━━━━━━━━━━━━\u001b[0m \u001b[32m317.0/317.0 MB\u001b[0m \u001b[31m3.7 MB/s\u001b[0m eta \u001b[36m0:00:00\u001b[0m\n",
            "\u001b[?25h  Preparing metadata (setup.py) ... \u001b[?25l\u001b[?25hdone\n",
            "Requirement already satisfied: py4j==0.10.9.7 in /usr/local/lib/python3.10/dist-packages (from pyspark) (0.10.9.7)\n",
            "Building wheels for collected packages: pyspark\n",
            "  Building wheel for pyspark (setup.py) ... \u001b[?25l\u001b[?25hdone\n",
            "  Created wheel for pyspark: filename=pyspark-3.5.1-py2.py3-none-any.whl size=317488491 sha256=e550e72c8b29dc7ad0f6e92230dfada9ea83d72e82542183bd1b44b9c6088b1c\n",
            "  Stored in directory: /root/.cache/pip/wheels/80/1d/60/2c256ed38dddce2fdd93be545214a63e02fbd8d74fb0b7f3a6\n",
            "Successfully built pyspark\n",
            "Installing collected packages: pyspark\n",
            "Successfully installed pyspark-3.5.1\n"
          ]
        }
      ],
      "source": [
        "!pip install pyspark\n",
        "from pyspark.sql import SparkSession\n",
        "\n",
        "# Create SparkSession\n",
        "spark = SparkSession.builder.master(f\"local[{num_cores}]\")\\\n",
        "          .appName(\"AdultCSVData\")\\\n",
        "          .config(\"spark.executor.memory\", \"8g\") \\\n",
        "          .getOrCreate()\n"
      ]
    },
    {
      "cell_type": "code",
      "source": [
        "df = spark.read.csv(\"/content/adult.csv\",inferSchema=True,header=True)"
      ],
      "metadata": {
        "id": "R8bNZRwnkPW2"
      },
      "execution_count": 4,
      "outputs": []
    },
    {
      "cell_type": "code",
      "source": [
        "df.show()"
      ],
      "metadata": {
        "colab": {
          "base_uri": "https://localhost:8080/"
        },
        "id": "TS1IgQIZleTb",
        "outputId": "8f4ee2eb-8143-48c7-a0ab-f846a6658c81"
      },
      "execution_count": 5,
      "outputs": [
        {
          "output_type": "stream",
          "name": "stdout",
          "text": [
            "+---+----------------+------+------------+-------------+--------------+-----------------+--------------+-----+------+------------+------------+--------------+--------------+------+\n",
            "|age|       workclass|fnlwgt|   education|education.num|marital.status|       occupation|  relationship| race|   sex|capital.gain|capital.loss|hours.per.week|native.country|income|\n",
            "+---+----------------+------+------------+-------------+--------------+-----------------+--------------+-----+------+------------+------------+--------------+--------------+------+\n",
            "| 90|               ?| 77053|     HS-grad|            9|       Widowed|                ?| Not-in-family|White|Female|           0|        4356|            40| United-States| <=50K|\n",
            "| 82|         Private|132870|     HS-grad|            9|       Widowed|  Exec-managerial| Not-in-family|White|Female|           0|        4356|            18| United-States| <=50K|\n",
            "| 66|               ?|186061|Some-college|           10|       Widowed|                ?|     Unmarried|Black|Female|           0|        4356|            40| United-States| <=50K|\n",
            "| 54|         Private|140359|     7th-8th|            4|      Divorced|Machine-op-inspct|     Unmarried|White|Female|           0|        3900|            40| United-States| <=50K|\n",
            "| 41|         Private|264663|Some-college|           10|     Separated|   Prof-specialty|     Own-child|White|Female|           0|        3900|            40| United-States| <=50K|\n",
            "| 34|         Private|216864|     HS-grad|            9|      Divorced|    Other-service|     Unmarried|White|Female|           0|        3770|            45| United-States| <=50K|\n",
            "| 38|         Private|150601|        10th|            6|     Separated|     Adm-clerical|     Unmarried|White|  Male|           0|        3770|            40| United-States| <=50K|\n",
            "| 74|       State-gov| 88638|   Doctorate|           16| Never-married|   Prof-specialty|Other-relative|White|Female|           0|        3683|            20| United-States|  >50K|\n",
            "| 68|     Federal-gov|422013|     HS-grad|            9|      Divorced|   Prof-specialty| Not-in-family|White|Female|           0|        3683|            40| United-States| <=50K|\n",
            "| 41|         Private| 70037|Some-college|           10| Never-married|     Craft-repair|     Unmarried|White|  Male|           0|        3004|            60|             ?|  >50K|\n",
            "| 45|         Private|172274|   Doctorate|           16|      Divorced|   Prof-specialty|     Unmarried|Black|Female|           0|        3004|            35| United-States|  >50K|\n",
            "| 38|Self-emp-not-inc|164526| Prof-school|           15| Never-married|   Prof-specialty| Not-in-family|White|  Male|           0|        2824|            45| United-States|  >50K|\n",
            "| 52|         Private|129177|   Bachelors|           13|       Widowed|    Other-service| Not-in-family|White|Female|           0|        2824|            20| United-States|  >50K|\n",
            "| 32|         Private|136204|     Masters|           14|     Separated|  Exec-managerial| Not-in-family|White|  Male|           0|        2824|            55| United-States|  >50K|\n",
            "| 51|               ?|172175|   Doctorate|           16| Never-married|                ?| Not-in-family|White|  Male|           0|        2824|            40| United-States|  >50K|\n",
            "| 46|         Private| 45363| Prof-school|           15|      Divorced|   Prof-specialty| Not-in-family|White|  Male|           0|        2824|            40| United-States|  >50K|\n",
            "| 45|         Private|172822|        11th|            7|      Divorced| Transport-moving| Not-in-family|White|  Male|           0|        2824|            76| United-States|  >50K|\n",
            "| 57|         Private|317847|     Masters|           14|      Divorced|  Exec-managerial| Not-in-family|White|  Male|           0|        2824|            50| United-States|  >50K|\n",
            "| 22|         Private|119592|  Assoc-acdm|           12| Never-married|Handlers-cleaners| Not-in-family|Black|  Male|           0|        2824|            40|             ?|  >50K|\n",
            "| 34|         Private|203034|   Bachelors|           13|     Separated|            Sales| Not-in-family|White|  Male|           0|        2824|            50| United-States|  >50K|\n",
            "+---+----------------+------+------------+-------------+--------------+-----------------+--------------+-----+------+------------+------------+--------------+--------------+------+\n",
            "only showing top 20 rows\n",
            "\n"
          ]
        }
      ]
    },
    {
      "cell_type": "code",
      "source": [
        "df.printSchema()"
      ],
      "metadata": {
        "colab": {
          "base_uri": "https://localhost:8080/"
        },
        "id": "oyZfT-MKpA_9",
        "outputId": "195b7b40-7816-4881-c97f-c849af7a1704"
      },
      "execution_count": 6,
      "outputs": [
        {
          "output_type": "stream",
          "name": "stdout",
          "text": [
            "root\n",
            " |-- age: integer (nullable = true)\n",
            " |-- workclass: string (nullable = true)\n",
            " |-- fnlwgt: integer (nullable = true)\n",
            " |-- education: string (nullable = true)\n",
            " |-- education.num: integer (nullable = true)\n",
            " |-- marital.status: string (nullable = true)\n",
            " |-- occupation: string (nullable = true)\n",
            " |-- relationship: string (nullable = true)\n",
            " |-- race: string (nullable = true)\n",
            " |-- sex: string (nullable = true)\n",
            " |-- capital.gain: integer (nullable = true)\n",
            " |-- capital.loss: integer (nullable = true)\n",
            " |-- hours.per.week: integer (nullable = true)\n",
            " |-- native.country: string (nullable = true)\n",
            " |-- income: string (nullable = true)\n",
            "\n"
          ]
        }
      ]
    },
    {
      "cell_type": "code",
      "source": [
        "renamed_cols = ['age','workclass','final_weight','education','education_num',\n",
        "                'marital_status','occupation','relationship','race','sex','capital_gain',\n",
        "                'capital_loss','hours_per_week','native_country','income']\n",
        "\n",
        "#Rename columns\n",
        "\n",
        "df = df.toDF(*renamed_cols)\n",
        "df.show()"
      ],
      "metadata": {
        "colab": {
          "base_uri": "https://localhost:8080/"
        },
        "id": "kb0Z_farn-43",
        "outputId": "94558ca2-e862-4a44-8d50-f50497ae6eed"
      },
      "execution_count": 7,
      "outputs": [
        {
          "output_type": "stream",
          "name": "stdout",
          "text": [
            "+---+----------------+------------+------------+-------------+--------------+-----------------+--------------+-----+------+------------+------------+--------------+--------------+------+\n",
            "|age|       workclass|final_weight|   education|education_num|marital_status|       occupation|  relationship| race|   sex|capital_gain|capital_loss|hours_per_week|native_country|income|\n",
            "+---+----------------+------------+------------+-------------+--------------+-----------------+--------------+-----+------+------------+------------+--------------+--------------+------+\n",
            "| 90|               ?|       77053|     HS-grad|            9|       Widowed|                ?| Not-in-family|White|Female|           0|        4356|            40| United-States| <=50K|\n",
            "| 82|         Private|      132870|     HS-grad|            9|       Widowed|  Exec-managerial| Not-in-family|White|Female|           0|        4356|            18| United-States| <=50K|\n",
            "| 66|               ?|      186061|Some-college|           10|       Widowed|                ?|     Unmarried|Black|Female|           0|        4356|            40| United-States| <=50K|\n",
            "| 54|         Private|      140359|     7th-8th|            4|      Divorced|Machine-op-inspct|     Unmarried|White|Female|           0|        3900|            40| United-States| <=50K|\n",
            "| 41|         Private|      264663|Some-college|           10|     Separated|   Prof-specialty|     Own-child|White|Female|           0|        3900|            40| United-States| <=50K|\n",
            "| 34|         Private|      216864|     HS-grad|            9|      Divorced|    Other-service|     Unmarried|White|Female|           0|        3770|            45| United-States| <=50K|\n",
            "| 38|         Private|      150601|        10th|            6|     Separated|     Adm-clerical|     Unmarried|White|  Male|           0|        3770|            40| United-States| <=50K|\n",
            "| 74|       State-gov|       88638|   Doctorate|           16| Never-married|   Prof-specialty|Other-relative|White|Female|           0|        3683|            20| United-States|  >50K|\n",
            "| 68|     Federal-gov|      422013|     HS-grad|            9|      Divorced|   Prof-specialty| Not-in-family|White|Female|           0|        3683|            40| United-States| <=50K|\n",
            "| 41|         Private|       70037|Some-college|           10| Never-married|     Craft-repair|     Unmarried|White|  Male|           0|        3004|            60|             ?|  >50K|\n",
            "| 45|         Private|      172274|   Doctorate|           16|      Divorced|   Prof-specialty|     Unmarried|Black|Female|           0|        3004|            35| United-States|  >50K|\n",
            "| 38|Self-emp-not-inc|      164526| Prof-school|           15| Never-married|   Prof-specialty| Not-in-family|White|  Male|           0|        2824|            45| United-States|  >50K|\n",
            "| 52|         Private|      129177|   Bachelors|           13|       Widowed|    Other-service| Not-in-family|White|Female|           0|        2824|            20| United-States|  >50K|\n",
            "| 32|         Private|      136204|     Masters|           14|     Separated|  Exec-managerial| Not-in-family|White|  Male|           0|        2824|            55| United-States|  >50K|\n",
            "| 51|               ?|      172175|   Doctorate|           16| Never-married|                ?| Not-in-family|White|  Male|           0|        2824|            40| United-States|  >50K|\n",
            "| 46|         Private|       45363| Prof-school|           15|      Divorced|   Prof-specialty| Not-in-family|White|  Male|           0|        2824|            40| United-States|  >50K|\n",
            "| 45|         Private|      172822|        11th|            7|      Divorced| Transport-moving| Not-in-family|White|  Male|           0|        2824|            76| United-States|  >50K|\n",
            "| 57|         Private|      317847|     Masters|           14|      Divorced|  Exec-managerial| Not-in-family|White|  Male|           0|        2824|            50| United-States|  >50K|\n",
            "| 22|         Private|      119592|  Assoc-acdm|           12| Never-married|Handlers-cleaners| Not-in-family|Black|  Male|           0|        2824|            40|             ?|  >50K|\n",
            "| 34|         Private|      203034|   Bachelors|           13|     Separated|            Sales| Not-in-family|White|  Male|           0|        2824|            50| United-States|  >50K|\n",
            "+---+----------------+------------+------------+-------------+--------------+-----------------+--------------+-----+------+------------+------------+--------------+--------------+------+\n",
            "only showing top 20 rows\n",
            "\n"
          ]
        }
      ]
    },
    {
      "cell_type": "code",
      "source": [
        "df.replace('?',None).show()"
      ],
      "metadata": {
        "colab": {
          "base_uri": "https://localhost:8080/"
        },
        "id": "TETNZR_U6cVz",
        "outputId": "4e059eed-a9b0-40ab-ebd7-acec92ef02d6"
      },
      "execution_count": 8,
      "outputs": [
        {
          "output_type": "stream",
          "name": "stdout",
          "text": [
            "+---+----------------+------------+------------+-------------+--------------+-----------------+--------------+-----+------+------------+------------+--------------+--------------+------+\n",
            "|age|       workclass|final_weight|   education|education_num|marital_status|       occupation|  relationship| race|   sex|capital_gain|capital_loss|hours_per_week|native_country|income|\n",
            "+---+----------------+------------+------------+-------------+--------------+-----------------+--------------+-----+------+------------+------------+--------------+--------------+------+\n",
            "| 90|            NULL|       77053|     HS-grad|            9|       Widowed|             NULL| Not-in-family|White|Female|           0|        4356|            40| United-States| <=50K|\n",
            "| 82|         Private|      132870|     HS-grad|            9|       Widowed|  Exec-managerial| Not-in-family|White|Female|           0|        4356|            18| United-States| <=50K|\n",
            "| 66|            NULL|      186061|Some-college|           10|       Widowed|             NULL|     Unmarried|Black|Female|           0|        4356|            40| United-States| <=50K|\n",
            "| 54|         Private|      140359|     7th-8th|            4|      Divorced|Machine-op-inspct|     Unmarried|White|Female|           0|        3900|            40| United-States| <=50K|\n",
            "| 41|         Private|      264663|Some-college|           10|     Separated|   Prof-specialty|     Own-child|White|Female|           0|        3900|            40| United-States| <=50K|\n",
            "| 34|         Private|      216864|     HS-grad|            9|      Divorced|    Other-service|     Unmarried|White|Female|           0|        3770|            45| United-States| <=50K|\n",
            "| 38|         Private|      150601|        10th|            6|     Separated|     Adm-clerical|     Unmarried|White|  Male|           0|        3770|            40| United-States| <=50K|\n",
            "| 74|       State-gov|       88638|   Doctorate|           16| Never-married|   Prof-specialty|Other-relative|White|Female|           0|        3683|            20| United-States|  >50K|\n",
            "| 68|     Federal-gov|      422013|     HS-grad|            9|      Divorced|   Prof-specialty| Not-in-family|White|Female|           0|        3683|            40| United-States| <=50K|\n",
            "| 41|         Private|       70037|Some-college|           10| Never-married|     Craft-repair|     Unmarried|White|  Male|           0|        3004|            60|          NULL|  >50K|\n",
            "| 45|         Private|      172274|   Doctorate|           16|      Divorced|   Prof-specialty|     Unmarried|Black|Female|           0|        3004|            35| United-States|  >50K|\n",
            "| 38|Self-emp-not-inc|      164526| Prof-school|           15| Never-married|   Prof-specialty| Not-in-family|White|  Male|           0|        2824|            45| United-States|  >50K|\n",
            "| 52|         Private|      129177|   Bachelors|           13|       Widowed|    Other-service| Not-in-family|White|Female|           0|        2824|            20| United-States|  >50K|\n",
            "| 32|         Private|      136204|     Masters|           14|     Separated|  Exec-managerial| Not-in-family|White|  Male|           0|        2824|            55| United-States|  >50K|\n",
            "| 51|            NULL|      172175|   Doctorate|           16| Never-married|             NULL| Not-in-family|White|  Male|           0|        2824|            40| United-States|  >50K|\n",
            "| 46|         Private|       45363| Prof-school|           15|      Divorced|   Prof-specialty| Not-in-family|White|  Male|           0|        2824|            40| United-States|  >50K|\n",
            "| 45|         Private|      172822|        11th|            7|      Divorced| Transport-moving| Not-in-family|White|  Male|           0|        2824|            76| United-States|  >50K|\n",
            "| 57|         Private|      317847|     Masters|           14|      Divorced|  Exec-managerial| Not-in-family|White|  Male|           0|        2824|            50| United-States|  >50K|\n",
            "| 22|         Private|      119592|  Assoc-acdm|           12| Never-married|Handlers-cleaners| Not-in-family|Black|  Male|           0|        2824|            40|          NULL|  >50K|\n",
            "| 34|         Private|      203034|   Bachelors|           13|     Separated|            Sales| Not-in-family|White|  Male|           0|        2824|            50| United-States|  >50K|\n",
            "+---+----------------+------------+------------+-------------+--------------+-----------------+--------------+-----+------+------------+------------+--------------+--------------+------+\n",
            "only showing top 20 rows\n",
            "\n"
          ]
        }
      ]
    },
    {
      "cell_type": "code",
      "source": [
        "from pyspark.sql.functions import col, sum, when"
      ],
      "metadata": {
        "id": "qAWKDw0_qr5M"
      },
      "execution_count": 9,
      "outputs": []
    },
    {
      "cell_type": "code",
      "source": [
        "from pyspark.sql.functions import col, sum\n",
        "\n",
        "# List to store results\n",
        "null_counts = []\n",
        "\n",
        "null_counts = [(column, df.filter(col(column).isNull()).count()) for column in df.columns]"
      ],
      "metadata": {
        "id": "Wj3Xry082vlB"
      },
      "execution_count": 10,
      "outputs": []
    },
    {
      "cell_type": "code",
      "source": [
        "null_counts"
      ],
      "metadata": {
        "colab": {
          "base_uri": "https://localhost:8080/"
        },
        "id": "vsw547Xl5DV7",
        "outputId": "6a50a8e2-bfac-42cb-dbd8-0744ae808770"
      },
      "execution_count": 11,
      "outputs": [
        {
          "output_type": "execute_result",
          "data": {
            "text/plain": [
              "[('age', 0),\n",
              " ('workclass', 0),\n",
              " ('final_weight', 0),\n",
              " ('education', 0),\n",
              " ('education_num', 0),\n",
              " ('marital_status', 0),\n",
              " ('occupation', 0),\n",
              " ('relationship', 0),\n",
              " ('race', 0),\n",
              " ('sex', 0),\n",
              " ('capital_gain', 0),\n",
              " ('capital_loss', 0),\n",
              " ('hours_per_week', 0),\n",
              " ('native_country', 0),\n",
              " ('income', 0)]"
            ]
          },
          "metadata": {},
          "execution_count": 11
        }
      ]
    },
    {
      "cell_type": "code",
      "source": [
        "import numpy as np\n",
        "df = df.replace('?',None)\n",
        "\n",
        "null_counts = []\n",
        "\n",
        "null_counts = [(column, df.filter(col(column).isNull()).count()) for column in df.columns]\n",
        "null_counts"
      ],
      "metadata": {
        "colab": {
          "base_uri": "https://localhost:8080/"
        },
        "id": "G7dU2VpP4oUG",
        "outputId": "539d73a8-968b-42a7-e508-4883b5680dc6"
      },
      "execution_count": 12,
      "outputs": [
        {
          "output_type": "execute_result",
          "data": {
            "text/plain": [
              "[('age', 0),\n",
              " ('workclass', 1836),\n",
              " ('final_weight', 0),\n",
              " ('education', 0),\n",
              " ('education_num', 0),\n",
              " ('marital_status', 0),\n",
              " ('occupation', 1843),\n",
              " ('relationship', 0),\n",
              " ('race', 0),\n",
              " ('sex', 0),\n",
              " ('capital_gain', 0),\n",
              " ('capital_loss', 0),\n",
              " ('hours_per_week', 0),\n",
              " ('native_country', 583),\n",
              " ('income', 0)]"
            ]
          },
          "metadata": {},
          "execution_count": 12
        }
      ]
    },
    {
      "cell_type": "code",
      "source": [
        "df.printSchema()# So all the categorical columns have null values"
      ],
      "metadata": {
        "colab": {
          "base_uri": "https://localhost:8080/"
        },
        "id": "cXhclImL7QaD",
        "outputId": "dcfcf300-139d-4fae-973f-33cf5198884b"
      },
      "execution_count": 13,
      "outputs": [
        {
          "output_type": "stream",
          "name": "stdout",
          "text": [
            "root\n",
            " |-- age: integer (nullable = true)\n",
            " |-- workclass: string (nullable = true)\n",
            " |-- final_weight: integer (nullable = true)\n",
            " |-- education: string (nullable = true)\n",
            " |-- education_num: integer (nullable = true)\n",
            " |-- marital_status: string (nullable = true)\n",
            " |-- occupation: string (nullable = true)\n",
            " |-- relationship: string (nullable = true)\n",
            " |-- race: string (nullable = true)\n",
            " |-- sex: string (nullable = true)\n",
            " |-- capital_gain: integer (nullable = true)\n",
            " |-- capital_loss: integer (nullable = true)\n",
            " |-- hours_per_week: integer (nullable = true)\n",
            " |-- native_country: string (nullable = true)\n",
            " |-- income: string (nullable = true)\n",
            "\n"
          ]
        }
      ]
    },
    {
      "cell_type": "code",
      "source": [
        "def stratified_split(data,ratios=[0.8,0.2],target_col='income'):\n",
        "  pos_sample = data.filter(col(target_col)=='>50K')\n",
        "  neg_sample = data.filter(col(target_col)=='<=50K')\n",
        "\n",
        "  train_pos, test_pos = pos_sample.randomSplit(ratios, seed=42)\n",
        "  train_neg, test_neg = neg_sample.randomSplit(ratios, seed=42)\n",
        "\n",
        "  train = train_pos.union(train_neg)\n",
        "  test = test_pos.union(test_neg)\n",
        "\n",
        "  return train, test"
      ],
      "metadata": {
        "id": "pYZ2lqPA7ZIK"
      },
      "execution_count": 17,
      "outputs": []
    },
    {
      "cell_type": "code",
      "source": [
        "Train, Test = stratified_split(df)"
      ],
      "metadata": {
        "id": "qKf9dm5Z9O1F"
      },
      "execution_count": 18,
      "outputs": []
    },
    {
      "cell_type": "code",
      "source": [
        "print(Train.filter(col('income')=='>50K').count())\n",
        "print(Train.filter(col('income')=='<=50K').count())"
      ],
      "metadata": {
        "colab": {
          "base_uri": "https://localhost:8080/"
        },
        "id": "1uWIAML49Uos",
        "outputId": "af5fa7b7-f4a9-4a91-85d3-037850746c76"
      },
      "execution_count": 19,
      "outputs": [
        {
          "output_type": "stream",
          "name": "stdout",
          "text": [
            "6343\n",
            "19798\n"
          ]
        }
      ]
    },
    {
      "cell_type": "code",
      "source": [
        "print(Test.filter(col('income')=='>50K').count())\n",
        "print(Test.filter(col('income')=='<=50K').count())"
      ],
      "metadata": {
        "colab": {
          "base_uri": "https://localhost:8080/"
        },
        "id": "jhBdopJE9isS",
        "outputId": "3ac7e60a-828a-4b82-bf2d-ce3f3eac0772"
      },
      "execution_count": 20,
      "outputs": [
        {
          "output_type": "stream",
          "name": "stdout",
          "text": [
            "1498\n",
            "4922\n"
          ]
        }
      ]
    },
    {
      "cell_type": "code",
      "source": [
        "!pip install kmodes\n",
        "from kmodes.kprototypes import KPrototypes"
      ],
      "metadata": {
        "colab": {
          "base_uri": "https://localhost:8080/"
        },
        "id": "M1Tv98G4_iyz",
        "outputId": "476043b6-c8c8-4911-be6f-48e0d0728aa7"
      },
      "execution_count": 21,
      "outputs": [
        {
          "output_type": "stream",
          "name": "stdout",
          "text": [
            "Collecting kmodes\n",
            "  Downloading kmodes-0.12.2-py2.py3-none-any.whl (20 kB)\n",
            "Requirement already satisfied: numpy>=1.10.4 in /usr/local/lib/python3.10/dist-packages (from kmodes) (1.25.2)\n",
            "Requirement already satisfied: scikit-learn>=0.22.0 in /usr/local/lib/python3.10/dist-packages (from kmodes) (1.2.2)\n",
            "Requirement already satisfied: scipy>=0.13.3 in /usr/local/lib/python3.10/dist-packages (from kmodes) (1.11.4)\n",
            "Requirement already satisfied: joblib>=0.11 in /usr/local/lib/python3.10/dist-packages (from kmodes) (1.4.2)\n",
            "Requirement already satisfied: threadpoolctl>=2.0.0 in /usr/local/lib/python3.10/dist-packages (from scikit-learn>=0.22.0->kmodes) (3.5.0)\n",
            "Installing collected packages: kmodes\n",
            "Successfully installed kmodes-0.12.2\n"
          ]
        }
      ]
    },
    {
      "cell_type": "markdown",
      "source": [
        "# Handle Missing Values using KModes"
      ],
      "metadata": {
        "id": "UBuSxlWrBEf5"
      }
    },
    {
      "cell_type": "code",
      "source": [
        "def fillMissingValues(data,num_clusters=3):\n",
        "  \"\"\"\n",
        "  input: Spark Dataframe, num_clusters: for number of clusters in Kprototypes\n",
        "  returns: Spark Dataframe\n",
        "  \"\"\"\n",
        "  pandas_data = data.toPandas()\n",
        "  target = pandas_data.pop('income')\n",
        "\n",
        "  missing_cols = pandas_data.columns[pandas_data.isnull().sum()>0]\n",
        "\n",
        "  print(\"Columns with missing values : \",missing_cols.tolist())\n",
        "\n",
        "  #get the data from missing cols\n",
        "\n",
        "  missing_data_cols = pandas_data[missing_cols]\n",
        "\n",
        "  #drop the missing cols\n",
        "\n",
        "  pandas_data.drop(missing_cols,axis=1,inplace=True)\n",
        "\n",
        "  # get the categorical columns\n",
        "\n",
        "  object_columns = pandas_data.select_dtypes(include=['object']).columns\n",
        "\n",
        "  #get the column indices\n",
        "\n",
        "  object_column_indices = [pandas_data.columns.get_loc(col) for col in object_columns]\n",
        "\n",
        "  print(\"Categorical columns with no missing values : \",object_column_indices)\n",
        "\n",
        "  #print(num_clusters)\n",
        "\n",
        "  kproto = KPrototypes(n_clusters=num_clusters, init='Cao', verbose=1, n_init=1)\n",
        "\n",
        "  # Fit the K-Prototypes model using the entire dataset except the target and the missing columns\n",
        "\n",
        "  clusters = kproto.fit_predict(pandas_data, categorical = object_column_indices)\n",
        "\n",
        "  #print(clusters)\n",
        "\n",
        "\n",
        "  pandas_data['Cluster'] = clusters\n",
        "\n",
        "  #get back the missing column data\n",
        "\n",
        "  pandas_data[missing_cols] = missing_data_cols\n",
        "\n",
        "  for cluster_id in range(num_clusters):\n",
        "    #print(\"Cluster id : \", cluster_id)\n",
        "    cluster_data = pandas_data[pandas_data['Cluster'] == cluster_id]\n",
        "\n",
        "    # Mode for each categorical variable\n",
        "    cluster_modes = cluster_data.mode().iloc[0]\n",
        "\n",
        "    #print(cluster_modes[missing_cols])\n",
        "\n",
        "    # Impute missing values for the cluster\n",
        "    for col in missing_cols:\n",
        "      #print(\"Filling column : \",col)\n",
        "      pandas_data.loc[pandas_data['Cluster'] == cluster_id,col] = pandas_data.loc[pandas_data['Cluster'] == cluster_id, col].fillna(cluster_modes[col])\n",
        "\n",
        "  pandas_data.drop('Cluster',axis=1,inplace=True)\n",
        "\n",
        "  pandas_data['income'] = target\n",
        "\n",
        "  spark_data = spark.createDataFrame(pandas_data)\n",
        "\n",
        "  return spark_data"
      ],
      "metadata": {
        "id": "vzxgcB8kQCwC"
      },
      "execution_count": 22,
      "outputs": []
    },
    {
      "cell_type": "code",
      "source": [
        "Imputed_Train = fillMissingValues(Train,5)"
      ],
      "metadata": {
        "colab": {
          "base_uri": "https://localhost:8080/"
        },
        "id": "eaQ20jZrTyih",
        "outputId": "4472ae33-87a0-414a-da2d-d73bc6f1fb5c"
      },
      "execution_count": 23,
      "outputs": [
        {
          "output_type": "stream",
          "name": "stdout",
          "text": [
            "Columns with missing values :  ['workclass', 'occupation', 'native_country']\n",
            "Categorical columns with no missing values :  [2, 4, 5, 6, 7]\n",
            "Initialization method and algorithm are deterministic. Setting n_init to 1.\n",
            "Init: initializing centroids\n",
            "Init: initializing clusters\n",
            "Starting iterations...\n",
            "Run: 1, iteration: 1/100, moves: 1473, ncost: 31847959051519.504\n",
            "Run: 1, iteration: 2/100, moves: 739, ncost: 31695505649211.824\n",
            "Run: 1, iteration: 3/100, moves: 259, ncost: 31677906611832.04\n",
            "Run: 1, iteration: 4/100, moves: 70, ncost: 31676548965773.23\n",
            "Run: 1, iteration: 5/100, moves: 10, ncost: 31676496285206.75\n",
            "Run: 1, iteration: 6/100, moves: 8, ncost: 31676466362632.17\n",
            "Run: 1, iteration: 7/100, moves: 3, ncost: 31676463250233.047\n",
            "Run: 1, iteration: 8/100, moves: 1, ncost: 31676462931196.418\n",
            "Run: 1, iteration: 9/100, moves: 0, ncost: 31676462931196.418\n"
          ]
        }
      ]
    },
    {
      "cell_type": "code",
      "source": [
        "Train.show()"
      ],
      "metadata": {
        "colab": {
          "base_uri": "https://localhost:8080/"
        },
        "id": "MMs7V0jFWvy2",
        "outputId": "d3de00ba-97dc-4992-a12c-42b36f69573f"
      },
      "execution_count": 24,
      "outputs": [
        {
          "output_type": "stream",
          "name": "stdout",
          "text": [
            "+---+----------------+------------+------------+-------------+------------------+-----------------+--------------+------------------+------+------------+------------+--------------+------------------+------+\n",
            "|age|       workclass|final_weight|   education|education_num|    marital_status|       occupation|  relationship|              race|   sex|capital_gain|capital_loss|hours_per_week|    native_country|income|\n",
            "+---+----------------+------------+------------+-------------+------------------+-----------------+--------------+------------------+------+------------+------------+--------------+------------------+------+\n",
            "| 19|            NULL|      200790|        12th|            8|Married-civ-spouse|             NULL|Other-relative|             White|Female|       15024|           0|            40|     United-States|  >50K|\n",
            "| 19|         Private|      323605|     7th-8th|            4|     Never-married|    Other-service| Not-in-family|             White|  Male|           0|           0|            60|     United-States|  >50K|\n",
            "| 21|         Private|      334618|Some-college|           10|     Never-married|  Protective-serv| Not-in-family|             Black|Female|       99999|           0|            40|     United-States|  >50K|\n",
            "| 21|         Private|      548303|     HS-grad|            9|Married-civ-spouse|   Prof-specialty|     Own-child|             White|  Male|           0|           0|            40|            Mexico|  >50K|\n",
            "| 22|       Local-gov|      164775|     5th-6th|            3|     Never-married|Handlers-cleaners|Other-relative|             White|  Male|           0|           0|            40|         Guatemala|  >50K|\n",
            "| 22|         Private|      119592|  Assoc-acdm|           12|     Never-married|Handlers-cleaners| Not-in-family|             Black|  Male|           0|        2824|            40|              NULL|  >50K|\n",
            "| 22|         Private|      195532|   Bachelors|           13|     Never-married|   Prof-specialty| Not-in-family|             White|Female|        8614|           0|            40|     United-States|  >50K|\n",
            "| 22|         Private|      228306|Some-college|           10| Married-AF-spouse|    Other-service|          Wife|             White|Female|           0|           0|            40|     United-States|  >50K|\n",
            "| 22|         Private|      231053|        11th|            7|Married-civ-spouse|Machine-op-inspct|       Husband|             White|  Male|           0|           0|            70|     United-States|  >50K|\n",
            "| 22|         Private|      233955|   Bachelors|           13|     Never-married|   Prof-specialty| Not-in-family|Amer-Indian-Eskimo|Female|       14344|           0|            40|     United-States|  >50K|\n",
            "| 22|         Private|      401451|Some-college|           10|Married-civ-spouse| Transport-moving|       Husband|             White|  Male|           0|           0|            48|     United-States|  >50K|\n",
            "| 22|Self-emp-not-inc|      202920|     HS-grad|            9|     Never-married|   Prof-specialty|     Unmarried|             White|Female|       99999|           0|            40|Dominican-Republic|  >50K|\n",
            "| 22|Self-emp-not-inc|      214014|Some-college|           10|     Never-married|            Sales|     Own-child|             Black|  Male|       99999|           0|            55|     United-States|  >50K|\n",
            "| 22|       State-gov|      186634|        12th|            8|     Never-married|  Exec-managerial| Not-in-family|             White|  Male|           0|           0|            50|     United-States|  >50K|\n",
            "| 23|       Local-gov|      197918|Some-college|           10|     Never-married|  Protective-serv|     Own-child|             White|  Male|           0|           0|            40|     United-States|  >50K|\n",
            "| 23|         Private|       41721|   Assoc-voc|           11|Married-civ-spouse|     Craft-repair|       Husband|             White|  Male|           0|           0|            55|     United-States|  >50K|\n",
            "| 23|         Private|       44064|Some-college|           10|         Separated|    Other-service| Not-in-family|             White|  Male|           0|        2559|            40|     United-States|  >50K|\n",
            "| 23|         Private|       65481|     HS-grad|            9|Married-civ-spouse|Machine-op-inspct|          Wife|             White|Female|           0|           0|            40|     United-States|  >50K|\n",
            "| 23|         Private|      106957|        11th|            7|     Never-married|     Craft-repair|     Own-child|Asian-Pac-Islander|  Male|       14344|           0|            40|           Vietnam|  >50K|\n",
            "| 23|         Private|      143003|     Masters|           14|Married-civ-spouse|   Prof-specialty|       Husband|Asian-Pac-Islander|  Male|           0|        1887|            50|             India|  >50K|\n",
            "+---+----------------+------------+------------+-------------+------------------+-----------------+--------------+------------------+------+------------+------------+--------------+------------------+------+\n",
            "only showing top 20 rows\n",
            "\n"
          ]
        }
      ]
    },
    {
      "cell_type": "code",
      "source": [
        "Imputed_Train.toPandas().info()"
      ],
      "metadata": {
        "colab": {
          "base_uri": "https://localhost:8080/"
        },
        "id": "MI25FOjTRaq6",
        "outputId": "c7d75f99-6f2b-4941-8e2c-da39912d59b7"
      },
      "execution_count": 25,
      "outputs": [
        {
          "output_type": "stream",
          "name": "stdout",
          "text": [
            "<class 'pandas.core.frame.DataFrame'>\n",
            "RangeIndex: 26141 entries, 0 to 26140\n",
            "Data columns (total 15 columns):\n",
            " #   Column          Non-Null Count  Dtype \n",
            "---  ------          --------------  ----- \n",
            " 0   age             26141 non-null  int64 \n",
            " 1   final_weight    26141 non-null  int64 \n",
            " 2   education       26141 non-null  object\n",
            " 3   education_num   26141 non-null  int64 \n",
            " 4   marital_status  26141 non-null  object\n",
            " 5   relationship    26141 non-null  object\n",
            " 6   race            26141 non-null  object\n",
            " 7   sex             26141 non-null  object\n",
            " 8   capital_gain    26141 non-null  int64 \n",
            " 9   capital_loss    26141 non-null  int64 \n",
            " 10  hours_per_week  26141 non-null  int64 \n",
            " 11  workclass       26141 non-null  object\n",
            " 12  occupation      26141 non-null  object\n",
            " 13  native_country  26141 non-null  object\n",
            " 14  income          26141 non-null  object\n",
            "dtypes: int64(6), object(9)\n",
            "memory usage: 3.0+ MB\n"
          ]
        }
      ]
    },
    {
      "cell_type": "code",
      "source": [
        "Imputed_Train.show()"
      ],
      "metadata": {
        "colab": {
          "base_uri": "https://localhost:8080/"
        },
        "id": "M7OsC3RmeJeB",
        "outputId": "e4f26b01-0dac-4080-8376-f72a112a6abe"
      },
      "execution_count": 26,
      "outputs": [
        {
          "output_type": "stream",
          "name": "stdout",
          "text": [
            "+---+------------+------------+-------------+------------------+--------------+------------------+------+------------+------------+--------------+----------------+-----------------+------------------+------+\n",
            "|age|final_weight|   education|education_num|    marital_status|  relationship|              race|   sex|capital_gain|capital_loss|hours_per_week|       workclass|       occupation|    native_country|income|\n",
            "+---+------------+------------+-------------+------------------+--------------+------------------+------+------------+------------+--------------+----------------+-----------------+------------------+------+\n",
            "| 19|      200790|        12th|            8|Married-civ-spouse|Other-relative|             White|Female|       15024|           0|            40|         Private|     Craft-repair|     United-States|  >50K|\n",
            "| 19|      323605|     7th-8th|            4|     Never-married| Not-in-family|             White|  Male|           0|           0|            60|         Private|    Other-service|     United-States|  >50K|\n",
            "| 21|      334618|Some-college|           10|     Never-married| Not-in-family|             Black|Female|       99999|           0|            40|         Private|  Protective-serv|     United-States|  >50K|\n",
            "| 21|      548303|     HS-grad|            9|Married-civ-spouse|     Own-child|             White|  Male|           0|           0|            40|         Private|   Prof-specialty|            Mexico|  >50K|\n",
            "| 22|      164775|     5th-6th|            3|     Never-married|Other-relative|             White|  Male|           0|           0|            40|       Local-gov|Handlers-cleaners|         Guatemala|  >50K|\n",
            "| 22|      119592|  Assoc-acdm|           12|     Never-married| Not-in-family|             Black|  Male|           0|        2824|            40|         Private|Handlers-cleaners|     United-States|  >50K|\n",
            "| 22|      195532|   Bachelors|           13|     Never-married| Not-in-family|             White|Female|        8614|           0|            40|         Private|   Prof-specialty|     United-States|  >50K|\n",
            "| 22|      228306|Some-college|           10| Married-AF-spouse|          Wife|             White|Female|           0|           0|            40|         Private|    Other-service|     United-States|  >50K|\n",
            "| 22|      231053|        11th|            7|Married-civ-spouse|       Husband|             White|  Male|           0|           0|            70|         Private|Machine-op-inspct|     United-States|  >50K|\n",
            "| 22|      233955|   Bachelors|           13|     Never-married| Not-in-family|Amer-Indian-Eskimo|Female|       14344|           0|            40|         Private|   Prof-specialty|     United-States|  >50K|\n",
            "| 22|      401451|Some-college|           10|Married-civ-spouse|       Husband|             White|  Male|           0|           0|            48|         Private| Transport-moving|     United-States|  >50K|\n",
            "| 22|      202920|     HS-grad|            9|     Never-married|     Unmarried|             White|Female|       99999|           0|            40|Self-emp-not-inc|   Prof-specialty|Dominican-Republic|  >50K|\n",
            "| 22|      214014|Some-college|           10|     Never-married|     Own-child|             Black|  Male|       99999|           0|            55|Self-emp-not-inc|            Sales|     United-States|  >50K|\n",
            "| 22|      186634|        12th|            8|     Never-married| Not-in-family|             White|  Male|           0|           0|            50|       State-gov|  Exec-managerial|     United-States|  >50K|\n",
            "| 23|      197918|Some-college|           10|     Never-married|     Own-child|             White|  Male|           0|           0|            40|       Local-gov|  Protective-serv|     United-States|  >50K|\n",
            "| 23|       41721|   Assoc-voc|           11|Married-civ-spouse|       Husband|             White|  Male|           0|           0|            55|         Private|     Craft-repair|     United-States|  >50K|\n",
            "| 23|       44064|Some-college|           10|         Separated| Not-in-family|             White|  Male|           0|        2559|            40|         Private|    Other-service|     United-States|  >50K|\n",
            "| 23|       65481|     HS-grad|            9|Married-civ-spouse|          Wife|             White|Female|           0|           0|            40|         Private|Machine-op-inspct|     United-States|  >50K|\n",
            "| 23|      106957|        11th|            7|     Never-married|     Own-child|Asian-Pac-Islander|  Male|       14344|           0|            40|         Private|     Craft-repair|           Vietnam|  >50K|\n",
            "| 23|      143003|     Masters|           14|Married-civ-spouse|       Husband|Asian-Pac-Islander|  Male|           0|        1887|            50|         Private|   Prof-specialty|             India|  >50K|\n",
            "+---+------------+------------+-------------+------------------+--------------+------------------+------+------------+------------+--------------+----------------+-----------------+------------------+------+\n",
            "only showing top 20 rows\n",
            "\n"
          ]
        }
      ]
    },
    {
      "cell_type": "code",
      "source": [
        "Imputed_Test = fillMissingValues(Test,5)"
      ],
      "metadata": {
        "colab": {
          "base_uri": "https://localhost:8080/"
        },
        "id": "33n-uOKpCxCt",
        "outputId": "e7894d7b-8f3e-465c-b120-0b1b63a11cd0"
      },
      "execution_count": 27,
      "outputs": [
        {
          "output_type": "stream",
          "name": "stdout",
          "text": [
            "Columns with missing values :  ['workclass', 'occupation', 'native_country']\n",
            "Categorical columns with no missing values :  [2, 4, 5, 6, 7]\n",
            "Initialization method and algorithm are deterministic. Setting n_init to 1.\n",
            "Init: initializing centroids\n",
            "Init: initializing clusters\n",
            "Starting iterations...\n",
            "Run: 1, iteration: 1/100, moves: 936, ncost: 10739540318642.375\n",
            "Run: 1, iteration: 2/100, moves: 606, ncost: 10085166587481.756\n",
            "Run: 1, iteration: 3/100, moves: 431, ncost: 9646947959287.676\n",
            "Run: 1, iteration: 4/100, moves: 361, ncost: 9178532715879.676\n",
            "Run: 1, iteration: 5/100, moves: 345, ncost: 8792186905321.727\n",
            "Run: 1, iteration: 6/100, moves: 277, ncost: 8530098967586.969\n",
            "Run: 1, iteration: 7/100, moves: 214, ncost: 8420664192176.036\n",
            "Run: 1, iteration: 8/100, moves: 165, ncost: 8336088506687.738\n",
            "Run: 1, iteration: 9/100, moves: 108, ncost: 8288967127276.634\n",
            "Run: 1, iteration: 10/100, moves: 87, ncost: 8262730034983.204\n",
            "Run: 1, iteration: 11/100, moves: 70, ncost: 8251271538806.271\n",
            "Run: 1, iteration: 12/100, moves: 56, ncost: 8247159398083.768\n",
            "Run: 1, iteration: 13/100, moves: 42, ncost: 8242651499809.45\n",
            "Run: 1, iteration: 14/100, moves: 31, ncost: 8239010593779.242\n",
            "Run: 1, iteration: 15/100, moves: 29, ncost: 8233304330432.631\n",
            "Run: 1, iteration: 16/100, moves: 31, ncost: 8216909273630.255\n",
            "Run: 1, iteration: 17/100, moves: 20, ncost: 8214781085250.044\n",
            "Run: 1, iteration: 18/100, moves: 13, ncost: 8214540637964.614\n",
            "Run: 1, iteration: 19/100, moves: 3, ncost: 8214524495475.097\n",
            "Run: 1, iteration: 20/100, moves: 1, ncost: 8214523112157.649\n",
            "Run: 1, iteration: 21/100, moves: 0, ncost: 8214523112157.649\n"
          ]
        }
      ]
    },
    {
      "cell_type": "code",
      "source": [
        "Imputed_Test.toPandas().info()"
      ],
      "metadata": {
        "colab": {
          "base_uri": "https://localhost:8080/"
        },
        "id": "fb4zJ9sDC2Ev",
        "outputId": "bfc8d6ff-e527-4e83-b61a-ad86601026a4"
      },
      "execution_count": 28,
      "outputs": [
        {
          "output_type": "stream",
          "name": "stdout",
          "text": [
            "<class 'pandas.core.frame.DataFrame'>\n",
            "RangeIndex: 6420 entries, 0 to 6419\n",
            "Data columns (total 15 columns):\n",
            " #   Column          Non-Null Count  Dtype \n",
            "---  ------          --------------  ----- \n",
            " 0   age             6420 non-null   int64 \n",
            " 1   final_weight    6420 non-null   int64 \n",
            " 2   education       6420 non-null   object\n",
            " 3   education_num   6420 non-null   int64 \n",
            " 4   marital_status  6420 non-null   object\n",
            " 5   relationship    6420 non-null   object\n",
            " 6   race            6420 non-null   object\n",
            " 7   sex             6420 non-null   object\n",
            " 8   capital_gain    6420 non-null   int64 \n",
            " 9   capital_loss    6420 non-null   int64 \n",
            " 10  hours_per_week  6420 non-null   int64 \n",
            " 11  workclass       6420 non-null   object\n",
            " 12  occupation      6420 non-null   object\n",
            " 13  native_country  6420 non-null   object\n",
            " 14  income          6420 non-null   object\n",
            "dtypes: int64(6), object(9)\n",
            "memory usage: 752.5+ KB\n"
          ]
        }
      ]
    },
    {
      "cell_type": "markdown",
      "source": [
        "## Check the class samples"
      ],
      "metadata": {
        "id": "g4IWEr9nBfxy"
      }
    },
    {
      "cell_type": "code",
      "source": [
        "Imputed_Train.groupby('income').count().toPandas()"
      ],
      "metadata": {
        "colab": {
          "base_uri": "https://localhost:8080/",
          "height": 112
        },
        "id": "o-9Md6Yk4lzD",
        "outputId": "9c161c8c-b7f8-479e-b099-4958ca5da0ef"
      },
      "execution_count": 29,
      "outputs": [
        {
          "output_type": "execute_result",
          "data": {
            "text/plain": [
              "  income  count\n",
              "0  <=50K  19798\n",
              "1   >50K   6343"
            ],
            "text/html": [
              "\n",
              "  <div id=\"df-4eadf157-9f93-4aa0-b93f-d87a5b8f27d9\" class=\"colab-df-container\">\n",
              "    <div>\n",
              "<style scoped>\n",
              "    .dataframe tbody tr th:only-of-type {\n",
              "        vertical-align: middle;\n",
              "    }\n",
              "\n",
              "    .dataframe tbody tr th {\n",
              "        vertical-align: top;\n",
              "    }\n",
              "\n",
              "    .dataframe thead th {\n",
              "        text-align: right;\n",
              "    }\n",
              "</style>\n",
              "<table border=\"1\" class=\"dataframe\">\n",
              "  <thead>\n",
              "    <tr style=\"text-align: right;\">\n",
              "      <th></th>\n",
              "      <th>income</th>\n",
              "      <th>count</th>\n",
              "    </tr>\n",
              "  </thead>\n",
              "  <tbody>\n",
              "    <tr>\n",
              "      <th>0</th>\n",
              "      <td>&lt;=50K</td>\n",
              "      <td>19798</td>\n",
              "    </tr>\n",
              "    <tr>\n",
              "      <th>1</th>\n",
              "      <td>&gt;50K</td>\n",
              "      <td>6343</td>\n",
              "    </tr>\n",
              "  </tbody>\n",
              "</table>\n",
              "</div>\n",
              "    <div class=\"colab-df-buttons\">\n",
              "\n",
              "  <div class=\"colab-df-container\">\n",
              "    <button class=\"colab-df-convert\" onclick=\"convertToInteractive('df-4eadf157-9f93-4aa0-b93f-d87a5b8f27d9')\"\n",
              "            title=\"Convert this dataframe to an interactive table.\"\n",
              "            style=\"display:none;\">\n",
              "\n",
              "  <svg xmlns=\"http://www.w3.org/2000/svg\" height=\"24px\" viewBox=\"0 -960 960 960\">\n",
              "    <path d=\"M120-120v-720h720v720H120Zm60-500h600v-160H180v160Zm220 220h160v-160H400v160Zm0 220h160v-160H400v160ZM180-400h160v-160H180v160Zm440 0h160v-160H620v160ZM180-180h160v-160H180v160Zm440 0h160v-160H620v160Z\"/>\n",
              "  </svg>\n",
              "    </button>\n",
              "\n",
              "  <style>\n",
              "    .colab-df-container {\n",
              "      display:flex;\n",
              "      gap: 12px;\n",
              "    }\n",
              "\n",
              "    .colab-df-convert {\n",
              "      background-color: #E8F0FE;\n",
              "      border: none;\n",
              "      border-radius: 50%;\n",
              "      cursor: pointer;\n",
              "      display: none;\n",
              "      fill: #1967D2;\n",
              "      height: 32px;\n",
              "      padding: 0 0 0 0;\n",
              "      width: 32px;\n",
              "    }\n",
              "\n",
              "    .colab-df-convert:hover {\n",
              "      background-color: #E2EBFA;\n",
              "      box-shadow: 0px 1px 2px rgba(60, 64, 67, 0.3), 0px 1px 3px 1px rgba(60, 64, 67, 0.15);\n",
              "      fill: #174EA6;\n",
              "    }\n",
              "\n",
              "    .colab-df-buttons div {\n",
              "      margin-bottom: 4px;\n",
              "    }\n",
              "\n",
              "    [theme=dark] .colab-df-convert {\n",
              "      background-color: #3B4455;\n",
              "      fill: #D2E3FC;\n",
              "    }\n",
              "\n",
              "    [theme=dark] .colab-df-convert:hover {\n",
              "      background-color: #434B5C;\n",
              "      box-shadow: 0px 1px 3px 1px rgba(0, 0, 0, 0.15);\n",
              "      filter: drop-shadow(0px 1px 2px rgba(0, 0, 0, 0.3));\n",
              "      fill: #FFFFFF;\n",
              "    }\n",
              "  </style>\n",
              "\n",
              "    <script>\n",
              "      const buttonEl =\n",
              "        document.querySelector('#df-4eadf157-9f93-4aa0-b93f-d87a5b8f27d9 button.colab-df-convert');\n",
              "      buttonEl.style.display =\n",
              "        google.colab.kernel.accessAllowed ? 'block' : 'none';\n",
              "\n",
              "      async function convertToInteractive(key) {\n",
              "        const element = document.querySelector('#df-4eadf157-9f93-4aa0-b93f-d87a5b8f27d9');\n",
              "        const dataTable =\n",
              "          await google.colab.kernel.invokeFunction('convertToInteractive',\n",
              "                                                    [key], {});\n",
              "        if (!dataTable) return;\n",
              "\n",
              "        const docLinkHtml = 'Like what you see? Visit the ' +\n",
              "          '<a target=\"_blank\" href=https://colab.research.google.com/notebooks/data_table.ipynb>data table notebook</a>'\n",
              "          + ' to learn more about interactive tables.';\n",
              "        element.innerHTML = '';\n",
              "        dataTable['output_type'] = 'display_data';\n",
              "        await google.colab.output.renderOutput(dataTable, element);\n",
              "        const docLink = document.createElement('div');\n",
              "        docLink.innerHTML = docLinkHtml;\n",
              "        element.appendChild(docLink);\n",
              "      }\n",
              "    </script>\n",
              "  </div>\n",
              "\n",
              "\n",
              "<div id=\"df-be27f6e6-8d86-4fca-8e9a-6161f73dcb36\">\n",
              "  <button class=\"colab-df-quickchart\" onclick=\"quickchart('df-be27f6e6-8d86-4fca-8e9a-6161f73dcb36')\"\n",
              "            title=\"Suggest charts\"\n",
              "            style=\"display:none;\">\n",
              "\n",
              "<svg xmlns=\"http://www.w3.org/2000/svg\" height=\"24px\"viewBox=\"0 0 24 24\"\n",
              "     width=\"24px\">\n",
              "    <g>\n",
              "        <path d=\"M19 3H5c-1.1 0-2 .9-2 2v14c0 1.1.9 2 2 2h14c1.1 0 2-.9 2-2V5c0-1.1-.9-2-2-2zM9 17H7v-7h2v7zm4 0h-2V7h2v10zm4 0h-2v-4h2v4z\"/>\n",
              "    </g>\n",
              "</svg>\n",
              "  </button>\n",
              "\n",
              "<style>\n",
              "  .colab-df-quickchart {\n",
              "      --bg-color: #E8F0FE;\n",
              "      --fill-color: #1967D2;\n",
              "      --hover-bg-color: #E2EBFA;\n",
              "      --hover-fill-color: #174EA6;\n",
              "      --disabled-fill-color: #AAA;\n",
              "      --disabled-bg-color: #DDD;\n",
              "  }\n",
              "\n",
              "  [theme=dark] .colab-df-quickchart {\n",
              "      --bg-color: #3B4455;\n",
              "      --fill-color: #D2E3FC;\n",
              "      --hover-bg-color: #434B5C;\n",
              "      --hover-fill-color: #FFFFFF;\n",
              "      --disabled-bg-color: #3B4455;\n",
              "      --disabled-fill-color: #666;\n",
              "  }\n",
              "\n",
              "  .colab-df-quickchart {\n",
              "    background-color: var(--bg-color);\n",
              "    border: none;\n",
              "    border-radius: 50%;\n",
              "    cursor: pointer;\n",
              "    display: none;\n",
              "    fill: var(--fill-color);\n",
              "    height: 32px;\n",
              "    padding: 0;\n",
              "    width: 32px;\n",
              "  }\n",
              "\n",
              "  .colab-df-quickchart:hover {\n",
              "    background-color: var(--hover-bg-color);\n",
              "    box-shadow: 0 1px 2px rgba(60, 64, 67, 0.3), 0 1px 3px 1px rgba(60, 64, 67, 0.15);\n",
              "    fill: var(--button-hover-fill-color);\n",
              "  }\n",
              "\n",
              "  .colab-df-quickchart-complete:disabled,\n",
              "  .colab-df-quickchart-complete:disabled:hover {\n",
              "    background-color: var(--disabled-bg-color);\n",
              "    fill: var(--disabled-fill-color);\n",
              "    box-shadow: none;\n",
              "  }\n",
              "\n",
              "  .colab-df-spinner {\n",
              "    border: 2px solid var(--fill-color);\n",
              "    border-color: transparent;\n",
              "    border-bottom-color: var(--fill-color);\n",
              "    animation:\n",
              "      spin 1s steps(1) infinite;\n",
              "  }\n",
              "\n",
              "  @keyframes spin {\n",
              "    0% {\n",
              "      border-color: transparent;\n",
              "      border-bottom-color: var(--fill-color);\n",
              "      border-left-color: var(--fill-color);\n",
              "    }\n",
              "    20% {\n",
              "      border-color: transparent;\n",
              "      border-left-color: var(--fill-color);\n",
              "      border-top-color: var(--fill-color);\n",
              "    }\n",
              "    30% {\n",
              "      border-color: transparent;\n",
              "      border-left-color: var(--fill-color);\n",
              "      border-top-color: var(--fill-color);\n",
              "      border-right-color: var(--fill-color);\n",
              "    }\n",
              "    40% {\n",
              "      border-color: transparent;\n",
              "      border-right-color: var(--fill-color);\n",
              "      border-top-color: var(--fill-color);\n",
              "    }\n",
              "    60% {\n",
              "      border-color: transparent;\n",
              "      border-right-color: var(--fill-color);\n",
              "    }\n",
              "    80% {\n",
              "      border-color: transparent;\n",
              "      border-right-color: var(--fill-color);\n",
              "      border-bottom-color: var(--fill-color);\n",
              "    }\n",
              "    90% {\n",
              "      border-color: transparent;\n",
              "      border-bottom-color: var(--fill-color);\n",
              "    }\n",
              "  }\n",
              "</style>\n",
              "\n",
              "  <script>\n",
              "    async function quickchart(key) {\n",
              "      const quickchartButtonEl =\n",
              "        document.querySelector('#' + key + ' button');\n",
              "      quickchartButtonEl.disabled = true;  // To prevent multiple clicks.\n",
              "      quickchartButtonEl.classList.add('colab-df-spinner');\n",
              "      try {\n",
              "        const charts = await google.colab.kernel.invokeFunction(\n",
              "            'suggestCharts', [key], {});\n",
              "      } catch (error) {\n",
              "        console.error('Error during call to suggestCharts:', error);\n",
              "      }\n",
              "      quickchartButtonEl.classList.remove('colab-df-spinner');\n",
              "      quickchartButtonEl.classList.add('colab-df-quickchart-complete');\n",
              "    }\n",
              "    (() => {\n",
              "      let quickchartButtonEl =\n",
              "        document.querySelector('#df-be27f6e6-8d86-4fca-8e9a-6161f73dcb36 button');\n",
              "      quickchartButtonEl.style.display =\n",
              "        google.colab.kernel.accessAllowed ? 'block' : 'none';\n",
              "    })();\n",
              "  </script>\n",
              "</div>\n",
              "\n",
              "    </div>\n",
              "  </div>\n"
            ],
            "application/vnd.google.colaboratory.intrinsic+json": {
              "type": "dataframe",
              "summary": "{\n  \"name\": \"Imputed_Train\",\n  \"rows\": 2,\n  \"fields\": [\n    {\n      \"column\": \"income\",\n      \"properties\": {\n        \"dtype\": \"string\",\n        \"num_unique_values\": 2,\n        \"samples\": [\n          \">50K\",\n          \"<=50K\"\n        ],\n        \"semantic_type\": \"\",\n        \"description\": \"\"\n      }\n    },\n    {\n      \"column\": \"count\",\n      \"properties\": {\n        \"dtype\": \"number\",\n        \"std\": 9514,\n        \"min\": 6343,\n        \"max\": 19798,\n        \"num_unique_values\": 2,\n        \"samples\": [\n          6343,\n          19798\n        ],\n        \"semantic_type\": \"\",\n        \"description\": \"\"\n      }\n    }\n  ]\n}"
            }
          },
          "metadata": {},
          "execution_count": 29
        }
      ]
    },
    {
      "cell_type": "code",
      "source": [
        "Imputed_Test.groupby('income').count().toPandas()"
      ],
      "metadata": {
        "colab": {
          "base_uri": "https://localhost:8080/",
          "height": 112
        },
        "id": "Bt87dEb7C-1X",
        "outputId": "7bd574fd-8ec0-4ed8-89a4-b4af90878d3d"
      },
      "execution_count": 30,
      "outputs": [
        {
          "output_type": "execute_result",
          "data": {
            "text/plain": [
              "  income  count\n",
              "0  <=50K   4922\n",
              "1   >50K   1498"
            ],
            "text/html": [
              "\n",
              "  <div id=\"df-2e5e2855-5c2b-4380-ab98-187a1d5690a7\" class=\"colab-df-container\">\n",
              "    <div>\n",
              "<style scoped>\n",
              "    .dataframe tbody tr th:only-of-type {\n",
              "        vertical-align: middle;\n",
              "    }\n",
              "\n",
              "    .dataframe tbody tr th {\n",
              "        vertical-align: top;\n",
              "    }\n",
              "\n",
              "    .dataframe thead th {\n",
              "        text-align: right;\n",
              "    }\n",
              "</style>\n",
              "<table border=\"1\" class=\"dataframe\">\n",
              "  <thead>\n",
              "    <tr style=\"text-align: right;\">\n",
              "      <th></th>\n",
              "      <th>income</th>\n",
              "      <th>count</th>\n",
              "    </tr>\n",
              "  </thead>\n",
              "  <tbody>\n",
              "    <tr>\n",
              "      <th>0</th>\n",
              "      <td>&lt;=50K</td>\n",
              "      <td>4922</td>\n",
              "    </tr>\n",
              "    <tr>\n",
              "      <th>1</th>\n",
              "      <td>&gt;50K</td>\n",
              "      <td>1498</td>\n",
              "    </tr>\n",
              "  </tbody>\n",
              "</table>\n",
              "</div>\n",
              "    <div class=\"colab-df-buttons\">\n",
              "\n",
              "  <div class=\"colab-df-container\">\n",
              "    <button class=\"colab-df-convert\" onclick=\"convertToInteractive('df-2e5e2855-5c2b-4380-ab98-187a1d5690a7')\"\n",
              "            title=\"Convert this dataframe to an interactive table.\"\n",
              "            style=\"display:none;\">\n",
              "\n",
              "  <svg xmlns=\"http://www.w3.org/2000/svg\" height=\"24px\" viewBox=\"0 -960 960 960\">\n",
              "    <path d=\"M120-120v-720h720v720H120Zm60-500h600v-160H180v160Zm220 220h160v-160H400v160Zm0 220h160v-160H400v160ZM180-400h160v-160H180v160Zm440 0h160v-160H620v160ZM180-180h160v-160H180v160Zm440 0h160v-160H620v160Z\"/>\n",
              "  </svg>\n",
              "    </button>\n",
              "\n",
              "  <style>\n",
              "    .colab-df-container {\n",
              "      display:flex;\n",
              "      gap: 12px;\n",
              "    }\n",
              "\n",
              "    .colab-df-convert {\n",
              "      background-color: #E8F0FE;\n",
              "      border: none;\n",
              "      border-radius: 50%;\n",
              "      cursor: pointer;\n",
              "      display: none;\n",
              "      fill: #1967D2;\n",
              "      height: 32px;\n",
              "      padding: 0 0 0 0;\n",
              "      width: 32px;\n",
              "    }\n",
              "\n",
              "    .colab-df-convert:hover {\n",
              "      background-color: #E2EBFA;\n",
              "      box-shadow: 0px 1px 2px rgba(60, 64, 67, 0.3), 0px 1px 3px 1px rgba(60, 64, 67, 0.15);\n",
              "      fill: #174EA6;\n",
              "    }\n",
              "\n",
              "    .colab-df-buttons div {\n",
              "      margin-bottom: 4px;\n",
              "    }\n",
              "\n",
              "    [theme=dark] .colab-df-convert {\n",
              "      background-color: #3B4455;\n",
              "      fill: #D2E3FC;\n",
              "    }\n",
              "\n",
              "    [theme=dark] .colab-df-convert:hover {\n",
              "      background-color: #434B5C;\n",
              "      box-shadow: 0px 1px 3px 1px rgba(0, 0, 0, 0.15);\n",
              "      filter: drop-shadow(0px 1px 2px rgba(0, 0, 0, 0.3));\n",
              "      fill: #FFFFFF;\n",
              "    }\n",
              "  </style>\n",
              "\n",
              "    <script>\n",
              "      const buttonEl =\n",
              "        document.querySelector('#df-2e5e2855-5c2b-4380-ab98-187a1d5690a7 button.colab-df-convert');\n",
              "      buttonEl.style.display =\n",
              "        google.colab.kernel.accessAllowed ? 'block' : 'none';\n",
              "\n",
              "      async function convertToInteractive(key) {\n",
              "        const element = document.querySelector('#df-2e5e2855-5c2b-4380-ab98-187a1d5690a7');\n",
              "        const dataTable =\n",
              "          await google.colab.kernel.invokeFunction('convertToInteractive',\n",
              "                                                    [key], {});\n",
              "        if (!dataTable) return;\n",
              "\n",
              "        const docLinkHtml = 'Like what you see? Visit the ' +\n",
              "          '<a target=\"_blank\" href=https://colab.research.google.com/notebooks/data_table.ipynb>data table notebook</a>'\n",
              "          + ' to learn more about interactive tables.';\n",
              "        element.innerHTML = '';\n",
              "        dataTable['output_type'] = 'display_data';\n",
              "        await google.colab.output.renderOutput(dataTable, element);\n",
              "        const docLink = document.createElement('div');\n",
              "        docLink.innerHTML = docLinkHtml;\n",
              "        element.appendChild(docLink);\n",
              "      }\n",
              "    </script>\n",
              "  </div>\n",
              "\n",
              "\n",
              "<div id=\"df-ec32791c-45ac-4f6a-964f-667cea20d2ba\">\n",
              "  <button class=\"colab-df-quickchart\" onclick=\"quickchart('df-ec32791c-45ac-4f6a-964f-667cea20d2ba')\"\n",
              "            title=\"Suggest charts\"\n",
              "            style=\"display:none;\">\n",
              "\n",
              "<svg xmlns=\"http://www.w3.org/2000/svg\" height=\"24px\"viewBox=\"0 0 24 24\"\n",
              "     width=\"24px\">\n",
              "    <g>\n",
              "        <path d=\"M19 3H5c-1.1 0-2 .9-2 2v14c0 1.1.9 2 2 2h14c1.1 0 2-.9 2-2V5c0-1.1-.9-2-2-2zM9 17H7v-7h2v7zm4 0h-2V7h2v10zm4 0h-2v-4h2v4z\"/>\n",
              "    </g>\n",
              "</svg>\n",
              "  </button>\n",
              "\n",
              "<style>\n",
              "  .colab-df-quickchart {\n",
              "      --bg-color: #E8F0FE;\n",
              "      --fill-color: #1967D2;\n",
              "      --hover-bg-color: #E2EBFA;\n",
              "      --hover-fill-color: #174EA6;\n",
              "      --disabled-fill-color: #AAA;\n",
              "      --disabled-bg-color: #DDD;\n",
              "  }\n",
              "\n",
              "  [theme=dark] .colab-df-quickchart {\n",
              "      --bg-color: #3B4455;\n",
              "      --fill-color: #D2E3FC;\n",
              "      --hover-bg-color: #434B5C;\n",
              "      --hover-fill-color: #FFFFFF;\n",
              "      --disabled-bg-color: #3B4455;\n",
              "      --disabled-fill-color: #666;\n",
              "  }\n",
              "\n",
              "  .colab-df-quickchart {\n",
              "    background-color: var(--bg-color);\n",
              "    border: none;\n",
              "    border-radius: 50%;\n",
              "    cursor: pointer;\n",
              "    display: none;\n",
              "    fill: var(--fill-color);\n",
              "    height: 32px;\n",
              "    padding: 0;\n",
              "    width: 32px;\n",
              "  }\n",
              "\n",
              "  .colab-df-quickchart:hover {\n",
              "    background-color: var(--hover-bg-color);\n",
              "    box-shadow: 0 1px 2px rgba(60, 64, 67, 0.3), 0 1px 3px 1px rgba(60, 64, 67, 0.15);\n",
              "    fill: var(--button-hover-fill-color);\n",
              "  }\n",
              "\n",
              "  .colab-df-quickchart-complete:disabled,\n",
              "  .colab-df-quickchart-complete:disabled:hover {\n",
              "    background-color: var(--disabled-bg-color);\n",
              "    fill: var(--disabled-fill-color);\n",
              "    box-shadow: none;\n",
              "  }\n",
              "\n",
              "  .colab-df-spinner {\n",
              "    border: 2px solid var(--fill-color);\n",
              "    border-color: transparent;\n",
              "    border-bottom-color: var(--fill-color);\n",
              "    animation:\n",
              "      spin 1s steps(1) infinite;\n",
              "  }\n",
              "\n",
              "  @keyframes spin {\n",
              "    0% {\n",
              "      border-color: transparent;\n",
              "      border-bottom-color: var(--fill-color);\n",
              "      border-left-color: var(--fill-color);\n",
              "    }\n",
              "    20% {\n",
              "      border-color: transparent;\n",
              "      border-left-color: var(--fill-color);\n",
              "      border-top-color: var(--fill-color);\n",
              "    }\n",
              "    30% {\n",
              "      border-color: transparent;\n",
              "      border-left-color: var(--fill-color);\n",
              "      border-top-color: var(--fill-color);\n",
              "      border-right-color: var(--fill-color);\n",
              "    }\n",
              "    40% {\n",
              "      border-color: transparent;\n",
              "      border-right-color: var(--fill-color);\n",
              "      border-top-color: var(--fill-color);\n",
              "    }\n",
              "    60% {\n",
              "      border-color: transparent;\n",
              "      border-right-color: var(--fill-color);\n",
              "    }\n",
              "    80% {\n",
              "      border-color: transparent;\n",
              "      border-right-color: var(--fill-color);\n",
              "      border-bottom-color: var(--fill-color);\n",
              "    }\n",
              "    90% {\n",
              "      border-color: transparent;\n",
              "      border-bottom-color: var(--fill-color);\n",
              "    }\n",
              "  }\n",
              "</style>\n",
              "\n",
              "  <script>\n",
              "    async function quickchart(key) {\n",
              "      const quickchartButtonEl =\n",
              "        document.querySelector('#' + key + ' button');\n",
              "      quickchartButtonEl.disabled = true;  // To prevent multiple clicks.\n",
              "      quickchartButtonEl.classList.add('colab-df-spinner');\n",
              "      try {\n",
              "        const charts = await google.colab.kernel.invokeFunction(\n",
              "            'suggestCharts', [key], {});\n",
              "      } catch (error) {\n",
              "        console.error('Error during call to suggestCharts:', error);\n",
              "      }\n",
              "      quickchartButtonEl.classList.remove('colab-df-spinner');\n",
              "      quickchartButtonEl.classList.add('colab-df-quickchart-complete');\n",
              "    }\n",
              "    (() => {\n",
              "      let quickchartButtonEl =\n",
              "        document.querySelector('#df-ec32791c-45ac-4f6a-964f-667cea20d2ba button');\n",
              "      quickchartButtonEl.style.display =\n",
              "        google.colab.kernel.accessAllowed ? 'block' : 'none';\n",
              "    })();\n",
              "  </script>\n",
              "</div>\n",
              "\n",
              "    </div>\n",
              "  </div>\n"
            ],
            "application/vnd.google.colaboratory.intrinsic+json": {
              "type": "dataframe",
              "summary": "{\n  \"name\": \"Imputed_Test\",\n  \"rows\": 2,\n  \"fields\": [\n    {\n      \"column\": \"income\",\n      \"properties\": {\n        \"dtype\": \"string\",\n        \"num_unique_values\": 2,\n        \"samples\": [\n          \">50K\",\n          \"<=50K\"\n        ],\n        \"semantic_type\": \"\",\n        \"description\": \"\"\n      }\n    },\n    {\n      \"column\": \"count\",\n      \"properties\": {\n        \"dtype\": \"number\",\n        \"std\": 2421,\n        \"min\": 1498,\n        \"max\": 4922,\n        \"num_unique_values\": 2,\n        \"samples\": [\n          1498,\n          4922\n        ],\n        \"semantic_type\": \"\",\n        \"description\": \"\"\n      }\n    }\n  ]\n}"
            }
          },
          "metadata": {},
          "execution_count": 30
        }
      ]
    },
    {
      "cell_type": "code",
      "source": [
        "Imputed_Train.printSchema()"
      ],
      "metadata": {
        "colab": {
          "base_uri": "https://localhost:8080/"
        },
        "id": "sV1JfttfH075",
        "outputId": "a466c69a-3c97-455f-e2b4-d0cc76baff6e"
      },
      "execution_count": 31,
      "outputs": [
        {
          "output_type": "stream",
          "name": "stdout",
          "text": [
            "root\n",
            " |-- age: long (nullable = true)\n",
            " |-- final_weight: long (nullable = true)\n",
            " |-- education: string (nullable = true)\n",
            " |-- education_num: long (nullable = true)\n",
            " |-- marital_status: string (nullable = true)\n",
            " |-- relationship: string (nullable = true)\n",
            " |-- race: string (nullable = true)\n",
            " |-- sex: string (nullable = true)\n",
            " |-- capital_gain: long (nullable = true)\n",
            " |-- capital_loss: long (nullable = true)\n",
            " |-- hours_per_week: long (nullable = true)\n",
            " |-- workclass: string (nullable = true)\n",
            " |-- occupation: string (nullable = true)\n",
            " |-- native_country: string (nullable = true)\n",
            " |-- income: string (nullable = true)\n",
            "\n"
          ]
        }
      ]
    },
    {
      "cell_type": "code",
      "source": [
        "categorical_cols = []\n",
        "index_categorical_cols = []\n",
        "ohe_categorical_cols = []\n",
        "\n",
        "numerical_cols = []\n",
        "numerical_cols_scaled = []\n",
        "\n",
        "for col, dtype in Imputed_Train.dtypes:\n",
        "  if dtype=='string':\n",
        "    categorical_cols.append(col)\n",
        "    index_categorical_cols.append(col+\"Index\")\n",
        "    ohe_categorical_cols.append(col+\"_ohv\")\n",
        "  else:\n",
        "    numerical_cols.append(col)\n",
        "\n",
        "\n",
        "print(categorical_cols)\n",
        "print(numerical_cols)"
      ],
      "metadata": {
        "colab": {
          "base_uri": "https://localhost:8080/"
        },
        "id": "-oCpPm1SDBCs",
        "outputId": "9a731a29-a307-47c3-de7a-2ff0f8cd53b3"
      },
      "execution_count": 32,
      "outputs": [
        {
          "output_type": "stream",
          "name": "stdout",
          "text": [
            "['education', 'marital_status', 'relationship', 'race', 'sex', 'workclass', 'occupation', 'native_country', 'income']\n",
            "['age', 'final_weight', 'education_num', 'capital_gain', 'capital_loss', 'hours_per_week']\n"
          ]
        }
      ]
    },
    {
      "cell_type": "code",
      "source": [
        "from pyspark.ml.feature import StringIndexer, OneHotEncoder, MinMaxScaler, VectorAssembler, StandardScaler\n",
        "from pyspark.ml import Pipeline\n",
        "indexer = StringIndexer(inputCols=categorical_cols, outputCols=index_categorical_cols)# Apply only string indexer to the income no One Hot encoding\n",
        "encoder = OneHotEncoder(inputCols = indexer.getOutputCols()[:-1], outputCols = ohe_categorical_cols[:-1])\n",
        "vector_assembler_1 = VectorAssembler(inputCols = numerical_cols, outputCol = 'InputFeatures')\n",
        "scaler = MinMaxScaler(inputCol = 'InputFeatures', outputCol = \"ScaledFeatures\")\n",
        "vector_assembler_2 = VectorAssembler(inputCols = [\"ScaledFeatures\"] + encoder.getOutputCols(), outputCol = 'features')"
      ],
      "metadata": {
        "id": "fW6gFn9xIM99"
      },
      "execution_count": 33,
      "outputs": []
    },
    {
      "cell_type": "code",
      "source": [
        "pipe = Pipeline(stages=[indexer,encoder,vector_assembler_1,scaler, vector_assembler_2])"
      ],
      "metadata": {
        "id": "0PLeipmlIQt0"
      },
      "execution_count": 34,
      "outputs": []
    },
    {
      "cell_type": "code",
      "source": [
        "model_pipe = pipe.fit(Imputed_Train)"
      ],
      "metadata": {
        "id": "HWkqSIQYIYYI"
      },
      "execution_count": 35,
      "outputs": []
    },
    {
      "cell_type": "code",
      "source": [
        "Final_Train = model_pipe.transform(Imputed_Train).select('features','incomeIndex')"
      ],
      "metadata": {
        "id": "cpYgz-0MKWSN"
      },
      "execution_count": 36,
      "outputs": []
    },
    {
      "cell_type": "code",
      "source": [
        "Final_Train.show()# sparse vector"
      ],
      "metadata": {
        "colab": {
          "base_uri": "https://localhost:8080/"
        },
        "id": "SqSvrXnAd4rG",
        "outputId": "75029165-a0d6-4d41-90c3-8125b0b34793"
      },
      "execution_count": 37,
      "outputs": [
        {
          "output_type": "stream",
          "name": "stdout",
          "text": [
            "+--------------------+-----------+\n",
            "|            features|incomeIndex|\n",
            "+--------------------+-----------+\n",
            "|(97,[0,1,2,3,5,17...|        1.0|\n",
            "|(97,[0,1,2,5,14,2...|        1.0|\n",
            "|(97,[0,1,2,3,5,7,...|        1.0|\n",
            "|(97,[0,1,2,5,6,21...|        1.0|\n",
            "|(97,[0,1,2,5,19,2...|        1.0|\n",
            "|(97,[0,1,2,4,5,12...|        1.0|\n",
            "|(97,[0,1,2,3,5,8,...|        1.0|\n",
            "|(97,[0,1,2,5,7,31...|        1.0|\n",
            "|(97,[0,1,2,5,11,2...|        1.0|\n",
            "|(97,[0,1,2,3,5,8,...|        1.0|\n",
            "|(97,[0,1,2,5,7,21...|        1.0|\n",
            "|(97,[0,1,2,3,5,6,...|        1.0|\n",
            "|(97,[0,1,2,3,5,7,...|        1.0|\n",
            "|(97,[0,1,2,5,17,2...|        1.0|\n",
            "|(97,[0,1,2,5,7,22...|        1.0|\n",
            "|(97,[0,1,2,5,10,2...|        1.0|\n",
            "|(97,[0,1,2,4,5,7,...|        1.0|\n",
            "|(97,[0,1,2,5,6,21...|        1.0|\n",
            "|(97,[0,1,2,3,5,11...|        1.0|\n",
            "|(97,[0,1,2,4,5,9,...|        1.0|\n",
            "+--------------------+-----------+\n",
            "only showing top 20 rows\n",
            "\n"
          ]
        }
      ]
    },
    {
      "cell_type": "code",
      "source": [
        "df_test = model_pipe.transform(Imputed_Test).select('features','incomeIndex')\n",
        "df_test.show()"
      ],
      "metadata": {
        "colab": {
          "base_uri": "https://localhost:8080/"
        },
        "id": "yDETgkQ46WlW",
        "outputId": "efedcbb0-1735-4018-efe4-a2178bd43693"
      },
      "execution_count": 39,
      "outputs": [
        {
          "output_type": "stream",
          "name": "stdout",
          "text": [
            "+--------------------+-----------+\n",
            "|            features|incomeIndex|\n",
            "+--------------------+-----------+\n",
            "|(97,[0,1,2,5,12,2...|        1.0|\n",
            "|(97,[0,1,2,3,5,8,...|        1.0|\n",
            "|(97,[0,1,2,5,7,22...|        1.0|\n",
            "|(97,[0,1,2,5,6,21...|        1.0|\n",
            "|(97,[0,1,2,5,7,21...|        1.0|\n",
            "|(97,[0,1,2,4,5,8,...|        1.0|\n",
            "|(97,[0,1,2,3,5,8,...|        1.0|\n",
            "|(97,[0,1,2,5,6,21...|        1.0|\n",
            "|(97,[0,1,2,5,6,21...|        1.0|\n",
            "|(97,[0,1,2,5,7,21...|        1.0|\n",
            "|(97,[0,1,2,5,11,2...|        1.0|\n",
            "|(97,[0,1,2,5,6,21...|        1.0|\n",
            "|(97,[0,1,2,3,5,7,...|        1.0|\n",
            "|(97,[0,1,2,3,5,8,...|        1.0|\n",
            "|(97,[0,1,2,4,5,8,...|        1.0|\n",
            "|(97,[0,1,2,3,5,10...|        1.0|\n",
            "|(97,[0,1,2,5,6,21...|        1.0|\n",
            "|(97,[0,1,2,5,7,21...|        1.0|\n",
            "|(97,[0,1,2,3,5,8,...|        1.0|\n",
            "|(97,[0,1,2,5,7,21...|        1.0|\n",
            "+--------------------+-----------+\n",
            "only showing top 20 rows\n",
            "\n"
          ]
        }
      ]
    },
    {
      "cell_type": "code",
      "source": [
        "# Check the sparse vector to dense vector\n",
        "from pyspark.ml.linalg import SparseVector, DenseVector"
      ],
      "metadata": {
        "id": "CVLzn9GTh6FF"
      },
      "execution_count": 40,
      "outputs": []
    },
    {
      "cell_type": "code",
      "source": [
        "print(Final_Train.select('features').head()[0])\n",
        "print('\\n\\n')\n",
        "print(DenseVector(Final_Train.select('features').head()[0]).toArray())"
      ],
      "metadata": {
        "colab": {
          "base_uri": "https://localhost:8080/"
        },
        "id": "Vx4r4tfrgfrP",
        "outputId": "99442bbf-7ab2-470e-ea7f-1c3e8f96bbaf"
      },
      "execution_count": 41,
      "outputs": [
        {
          "output_type": "stream",
          "name": "stdout",
          "text": [
            "(97,[0,1,2,3,5,17,21,32,37,44,57],[0.0273972602739726,0.1280239333885712,0.4666666666666667,0.15024150241502415,0.39795918367346933,1.0,1.0,1.0,1.0,1.0,1.0])\n",
            "\n",
            "\n",
            "\n",
            "[0.02739726 0.12802393 0.46666667 0.1502415  0.         0.39795918\n",
            " 0.         0.         0.         0.         0.         0.\n",
            " 0.         0.         0.         0.         0.         1.\n",
            " 0.         0.         0.         1.         0.         0.\n",
            " 0.         0.         0.         0.         0.         0.\n",
            " 0.         0.         1.         0.         0.         0.\n",
            " 0.         1.         0.         0.         0.         0.\n",
            " 0.         0.         1.         0.         0.         0.\n",
            " 0.         0.         0.         0.         0.         0.\n",
            " 0.         0.         0.         1.         0.         0.\n",
            " 0.         0.         0.         0.         0.         0.\n",
            " 0.         0.         0.         0.         0.         0.\n",
            " 0.         0.         0.         0.         0.         0.\n",
            " 0.         0.         0.         0.         0.         0.\n",
            " 0.         0.         0.         0.         0.         0.\n",
            " 0.         0.         0.         0.         0.         0.\n",
            " 0.        ]\n"
          ]
        }
      ]
    },
    {
      "cell_type": "markdown",
      "source": [
        "# OverSample the data using SMOTE"
      ],
      "metadata": {
        "id": "3g0XNgHORhVy"
      }
    },
    {
      "cell_type": "code",
      "source": [
        "from imblearn.over_sampling import SMOTE\n",
        "import numpy as np"
      ],
      "metadata": {
        "id": "fYfex8u3hE7f"
      },
      "execution_count": 42,
      "outputs": []
    },
    {
      "cell_type": "code",
      "source": [
        "#X_train = Final_Train.select('FinalInputFeatures')\n",
        "X_train = Final_Train.select('features').rdd.map(lambda row: DenseVector(row[0]).toArray()).collect()\n",
        "y_train = np.array(Final_Train.select('incomeIndex').rdd.map(lambda row: row[0]).collect())\n",
        "\n",
        "sm = SMOTE(random_state = 42)\n",
        "X_res,y_res = sm.fit_resample(X_train,y_train)"
      ],
      "metadata": {
        "id": "vSu1uZyYR7cv"
      },
      "execution_count": 43,
      "outputs": []
    },
    {
      "cell_type": "code",
      "source": [
        "np.unique(y_res,return_counts=True)"
      ],
      "metadata": {
        "colab": {
          "base_uri": "https://localhost:8080/"
        },
        "id": "m-ZSmQryWz8R",
        "outputId": "4cb8dec0-b926-435d-c3ea-63c2a82a97f8"
      },
      "execution_count": 44,
      "outputs": [
        {
          "output_type": "execute_result",
          "data": {
            "text/plain": [
              "(array([0., 1.]), array([19798, 19798]))"
            ]
          },
          "metadata": {},
          "execution_count": 44
        }
      ]
    },
    {
      "cell_type": "markdown",
      "source": [
        "# Recreate spark Dataframe to use spark mllib"
      ],
      "metadata": {
        "id": "5zIYK3WzqrFP"
      }
    },
    {
      "cell_type": "code",
      "source": [
        "df_train = map(lambda x,y: (DenseVector(x),int(y)),X_res,y_res)"
      ],
      "metadata": {
        "id": "Lxh_2JTtn_lP"
      },
      "execution_count": 45,
      "outputs": []
    },
    {
      "cell_type": "code",
      "source": [
        "df_train = spark.createDataFrame(df_train, schema = ['features','label'])"
      ],
      "metadata": {
        "id": "YVBJiiCcpHdy"
      },
      "execution_count": 46,
      "outputs": []
    },
    {
      "cell_type": "markdown",
      "source": [
        "# Logistic Regression Benchmark results"
      ],
      "metadata": {
        "id": "-cPiTyWM3IAy"
      }
    },
    {
      "cell_type": "code",
      "source": [
        "from pyspark.ml.classification import LogisticRegression\n",
        "\n",
        "lr = LogisticRegression(featuresCol = 'features', labelCol = 'label', maxIter=10)\n",
        "lrModel_benchmark = lr.fit(df_train)\n",
        "print(f\"Train accuracy: {lrModel_benchmark.summary.accuracy:.3f}\")\n",
        "print(f\"Train AU-ROC: {lrModel_benchmark.summary.areaUnderROC:.3f}\")\n",
        "print(f\"Recall for class 0: {lrModel_benchmark.summary.recallByLabel[0]:.3f} for class 1: {lrModel_benchmark.summary.recallByLabel[0]:.3f}\")\n",
        "print(f\"Precision for class 0: {lrModel_benchmark.summary.precisionByLabel[0]:.3f} for class 1: {lrModel_benchmark.summary.precisionByLabel[0]:.3f}\")"
      ],
      "metadata": {
        "colab": {
          "base_uri": "https://localhost:8080/"
        },
        "id": "dG01ajzuraC3",
        "outputId": "7f233408-b6c7-48f9-fb15-e2093d32fb5a"
      },
      "execution_count": 47,
      "outputs": [
        {
          "output_type": "stream",
          "name": "stdout",
          "text": [
            "Train accuracy: 0.828\n",
            "Train AU-ROC: 0.910\n",
            "Recall for class 0: 0.798 for class 1: 0.798\n",
            "Precision for class 0: 0.850 for class 1: 0.850\n"
          ]
        }
      ]
    },
    {
      "cell_type": "markdown",
      "source": [
        "## Check the validation result"
      ],
      "metadata": {
        "id": "ViY85OJp3RFs"
      }
    },
    {
      "cell_type": "code",
      "source": [
        "from pyspark.ml.evaluation import BinaryClassificationEvaluator\n",
        "from pyspark.ml.evaluation import MulticlassClassificationEvaluator\n",
        "\n",
        "AU_ROC_calc = BinaryClassificationEvaluator(metricName='areaUnderROC',labelCol='label')\n",
        "Accuracy_calc = MulticlassClassificationEvaluator(metricName='accuracy',labelCol='label')\n",
        "F1_calc = MulticlassClassificationEvaluator(metricName='f1')\n",
        "\n",
        "prediction_test = lrModel_benchmark.transform(df_test.withColumnRenamed('incomeIndex','label'))\n",
        "\n",
        "print(f\"Train F1 score {F1_calc.evaluate(lrModel_benchmark.transform(df_train)):.3f}\")\n",
        "\n",
        "print('\\n')\n",
        "\n",
        "print(f\"Test AU-ROC {AU_ROC_calc.evaluate(prediction_test):.3f}\")\n",
        "print(f\"Test accuracy {Accuracy_calc.evaluate(prediction_test):.3f}\")\n",
        "print(f\"Test F1_score {F1_calc.evaluate(prediction_test):.3f}\")"
      ],
      "metadata": {
        "colab": {
          "base_uri": "https://localhost:8080/"
        },
        "id": "1pq-mpgbtjc_",
        "outputId": "17940607-893f-4ec2-ca7e-6a625b054014"
      },
      "execution_count": 48,
      "outputs": [
        {
          "output_type": "stream",
          "name": "stdout",
          "text": [
            "Train F1 score 0.828\n",
            "\n",
            "\n",
            "Test AU-ROC 0.903\n",
            "Test accuracy 0.805\n",
            "Test F1_score 0.817\n"
          ]
        }
      ]
    },
    {
      "cell_type": "markdown",
      "source": [
        "## Apply Grid Search CV"
      ],
      "metadata": {
        "id": "caxA8jz2n0mw"
      }
    },
    {
      "cell_type": "code",
      "source": [
        "from pyspark.ml.tuning import CrossValidator, ParamGridBuilder\n",
        "\n",
        "lr_tuned = LogisticRegression(featuresCol = 'features', labelCol = 'label')\n",
        "\n",
        "paramGrid = ParamGridBuilder() \\\n",
        "    .addGrid(lr_tuned.regParam, [0.01, 0.1, 0.5]) \\\n",
        "    .addGrid(lr_tuned.elasticNetParam, [0.0, 0.5, 1.0]) \\\n",
        "    .addGrid(lr_tuned.threshold, [0.2,0.5,0.6])\\\n",
        "    .build()\n",
        "\n",
        "\n",
        "crossval = CrossValidator(\n",
        "    estimator=lr_tuned,\n",
        "    estimatorParamMaps=paramGrid,\n",
        "    evaluator=AU_ROC_calc,\n",
        "    numFolds=5)\n",
        "\n",
        "cv_lr_Model = crossval.fit(df_train)"
      ],
      "metadata": {
        "id": "TwyLFiSLkd7I"
      },
      "execution_count": 54,
      "outputs": []
    },
    {
      "cell_type": "code",
      "source": [
        "for params, metric in zip(paramGrid, cv_lr_Model.avgMetrics):\n",
        "    print(f\"Params: {params}, Metric: {metric}\")"
      ],
      "metadata": {
        "colab": {
          "base_uri": "https://localhost:8080/"
        },
        "id": "zX6esmGBAie3",
        "outputId": "9eb0d847-d58e-4949-f9d8-0ec8004ff3a2"
      },
      "execution_count": 67,
      "outputs": [
        {
          "output_type": "stream",
          "name": "stdout",
          "text": [
            "Params: {Param(parent='LogisticRegression_486ff5ef25d2', name='regParam', doc='regularization parameter (>= 0).'): 0.01, Param(parent='LogisticRegression_486ff5ef25d2', name='elasticNetParam', doc='the ElasticNet mixing parameter, in range [0, 1]. For alpha = 0, the penalty is an L2 penalty. For alpha = 1, it is an L1 penalty.'): 0.0, Param(parent='LogisticRegression_486ff5ef25d2', name='threshold', doc='Threshold in binary classification prediction, in range [0, 1]. If threshold and thresholds are both set, they must match.e.g. if threshold is p, then thresholds must be equal to [1-p, p].'): 0.2}, Metric: 0.9102365791260315\n",
            "Params: {Param(parent='LogisticRegression_486ff5ef25d2', name='regParam', doc='regularization parameter (>= 0).'): 0.01, Param(parent='LogisticRegression_486ff5ef25d2', name='elasticNetParam', doc='the ElasticNet mixing parameter, in range [0, 1]. For alpha = 0, the penalty is an L2 penalty. For alpha = 1, it is an L1 penalty.'): 0.0, Param(parent='LogisticRegression_486ff5ef25d2', name='threshold', doc='Threshold in binary classification prediction, in range [0, 1]. If threshold and thresholds are both set, they must match.e.g. if threshold is p, then thresholds must be equal to [1-p, p].'): 0.5}, Metric: 0.9102363992328968\n",
            "Params: {Param(parent='LogisticRegression_486ff5ef25d2', name='regParam', doc='regularization parameter (>= 0).'): 0.01, Param(parent='LogisticRegression_486ff5ef25d2', name='elasticNetParam', doc='the ElasticNet mixing parameter, in range [0, 1]. For alpha = 0, the penalty is an L2 penalty. For alpha = 1, it is an L1 penalty.'): 0.0, Param(parent='LogisticRegression_486ff5ef25d2', name='threshold', doc='Threshold in binary classification prediction, in range [0, 1]. If threshold and thresholds are both set, they must match.e.g. if threshold is p, then thresholds must be equal to [1-p, p].'): 0.6}, Metric: 0.9102341932457451\n",
            "Params: {Param(parent='LogisticRegression_486ff5ef25d2', name='regParam', doc='regularization parameter (>= 0).'): 0.01, Param(parent='LogisticRegression_486ff5ef25d2', name='elasticNetParam', doc='the ElasticNet mixing parameter, in range [0, 1]. For alpha = 0, the penalty is an L2 penalty. For alpha = 1, it is an L1 penalty.'): 0.5, Param(parent='LogisticRegression_486ff5ef25d2', name='threshold', doc='Threshold in binary classification prediction, in range [0, 1]. If threshold and thresholds are both set, they must match.e.g. if threshold is p, then thresholds must be equal to [1-p, p].'): 0.2}, Metric: 0.9102360351790271\n",
            "Params: {Param(parent='LogisticRegression_486ff5ef25d2', name='regParam', doc='regularization parameter (>= 0).'): 0.01, Param(parent='LogisticRegression_486ff5ef25d2', name='elasticNetParam', doc='the ElasticNet mixing parameter, in range [0, 1]. For alpha = 0, the penalty is an L2 penalty. For alpha = 1, it is an L1 penalty.'): 0.5, Param(parent='LogisticRegression_486ff5ef25d2', name='threshold', doc='Threshold in binary classification prediction, in range [0, 1]. If threshold and thresholds are both set, they must match.e.g. if threshold is p, then thresholds must be equal to [1-p, p].'): 0.5}, Metric: 0.910235211094847\n",
            "Params: {Param(parent='LogisticRegression_486ff5ef25d2', name='regParam', doc='regularization parameter (>= 0).'): 0.01, Param(parent='LogisticRegression_486ff5ef25d2', name='elasticNetParam', doc='the ElasticNet mixing parameter, in range [0, 1]. For alpha = 0, the penalty is an L2 penalty. For alpha = 1, it is an L1 penalty.'): 0.5, Param(parent='LogisticRegression_486ff5ef25d2', name='threshold', doc='Threshold in binary classification prediction, in range [0, 1]. If threshold and thresholds are both set, they must match.e.g. if threshold is p, then thresholds must be equal to [1-p, p].'): 0.6}, Metric: 0.9102375686332728\n",
            "Params: {Param(parent='LogisticRegression_486ff5ef25d2', name='regParam', doc='regularization parameter (>= 0).'): 0.01, Param(parent='LogisticRegression_486ff5ef25d2', name='elasticNetParam', doc='the ElasticNet mixing parameter, in range [0, 1]. For alpha = 0, the penalty is an L2 penalty. For alpha = 1, it is an L1 penalty.'): 1.0, Param(parent='LogisticRegression_486ff5ef25d2', name='threshold', doc='Threshold in binary classification prediction, in range [0, 1]. If threshold and thresholds are both set, they must match.e.g. if threshold is p, then thresholds must be equal to [1-p, p].'): 0.2}, Metric: 0.9102357686877903\n",
            "Params: {Param(parent='LogisticRegression_486ff5ef25d2', name='regParam', doc='regularization parameter (>= 0).'): 0.01, Param(parent='LogisticRegression_486ff5ef25d2', name='elasticNetParam', doc='the ElasticNet mixing parameter, in range [0, 1]. For alpha = 0, the penalty is an L2 penalty. For alpha = 1, it is an L1 penalty.'): 1.0, Param(parent='LogisticRegression_486ff5ef25d2', name='threshold', doc='Threshold in binary classification prediction, in range [0, 1]. If threshold and thresholds are both set, they must match.e.g. if threshold is p, then thresholds must be equal to [1-p, p].'): 0.5}, Metric: 0.9102361802303335\n",
            "Params: {Param(parent='LogisticRegression_486ff5ef25d2', name='regParam', doc='regularization parameter (>= 0).'): 0.01, Param(parent='LogisticRegression_486ff5ef25d2', name='elasticNetParam', doc='the ElasticNet mixing parameter, in range [0, 1]. For alpha = 0, the penalty is an L2 penalty. For alpha = 1, it is an L1 penalty.'): 1.0, Param(parent='LogisticRegression_486ff5ef25d2', name='threshold', doc='Threshold in binary classification prediction, in range [0, 1]. If threshold and thresholds are both set, they must match.e.g. if threshold is p, then thresholds must be equal to [1-p, p].'): 0.6}, Metric: 0.9102371661083432\n",
            "Params: {Param(parent='LogisticRegression_486ff5ef25d2', name='regParam', doc='regularization parameter (>= 0).'): 0.1, Param(parent='LogisticRegression_486ff5ef25d2', name='elasticNetParam', doc='the ElasticNet mixing parameter, in range [0, 1]. For alpha = 0, the penalty is an L2 penalty. For alpha = 1, it is an L1 penalty.'): 0.0, Param(parent='LogisticRegression_486ff5ef25d2', name='threshold', doc='Threshold in binary classification prediction, in range [0, 1]. If threshold and thresholds are both set, they must match.e.g. if threshold is p, then thresholds must be equal to [1-p, p].'): 0.2}, Metric: 0.9102341457599197\n",
            "Params: {Param(parent='LogisticRegression_486ff5ef25d2', name='regParam', doc='regularization parameter (>= 0).'): 0.1, Param(parent='LogisticRegression_486ff5ef25d2', name='elasticNetParam', doc='the ElasticNet mixing parameter, in range [0, 1]. For alpha = 0, the penalty is an L2 penalty. For alpha = 1, it is an L1 penalty.'): 0.0, Param(parent='LogisticRegression_486ff5ef25d2', name='threshold', doc='Threshold in binary classification prediction, in range [0, 1]. If threshold and thresholds are both set, they must match.e.g. if threshold is p, then thresholds must be equal to [1-p, p].'): 0.5}, Metric: 0.9102365275483221\n",
            "Params: {Param(parent='LogisticRegression_486ff5ef25d2', name='regParam', doc='regularization parameter (>= 0).'): 0.1, Param(parent='LogisticRegression_486ff5ef25d2', name='elasticNetParam', doc='the ElasticNet mixing parameter, in range [0, 1]. For alpha = 0, the penalty is an L2 penalty. For alpha = 1, it is an L1 penalty.'): 0.0, Param(parent='LogisticRegression_486ff5ef25d2', name='threshold', doc='Threshold in binary classification prediction, in range [0, 1]. If threshold and thresholds are both set, they must match.e.g. if threshold is p, then thresholds must be equal to [1-p, p].'): 0.6}, Metric: 0.9102350843440241\n",
            "Params: {Param(parent='LogisticRegression_486ff5ef25d2', name='regParam', doc='regularization parameter (>= 0).'): 0.1, Param(parent='LogisticRegression_486ff5ef25d2', name='elasticNetParam', doc='the ElasticNet mixing parameter, in range [0, 1]. For alpha = 0, the penalty is an L2 penalty. For alpha = 1, it is an L1 penalty.'): 0.5, Param(parent='LogisticRegression_486ff5ef25d2', name='threshold', doc='Threshold in binary classification prediction, in range [0, 1]. If threshold and thresholds are both set, they must match.e.g. if threshold is p, then thresholds must be equal to [1-p, p].'): 0.2}, Metric: 0.9102347350089774\n",
            "Params: {Param(parent='LogisticRegression_486ff5ef25d2', name='regParam', doc='regularization parameter (>= 0).'): 0.1, Param(parent='LogisticRegression_486ff5ef25d2', name='elasticNetParam', doc='the ElasticNet mixing parameter, in range [0, 1]. For alpha = 0, the penalty is an L2 penalty. For alpha = 1, it is an L1 penalty.'): 0.5, Param(parent='LogisticRegression_486ff5ef25d2', name='threshold', doc='Threshold in binary classification prediction, in range [0, 1]. If threshold and thresholds are both set, they must match.e.g. if threshold is p, then thresholds must be equal to [1-p, p].'): 0.5}, Metric: 0.9102347528778459\n",
            "Params: {Param(parent='LogisticRegression_486ff5ef25d2', name='regParam', doc='regularization parameter (>= 0).'): 0.1, Param(parent='LogisticRegression_486ff5ef25d2', name='elasticNetParam', doc='the ElasticNet mixing parameter, in range [0, 1]. For alpha = 0, the penalty is an L2 penalty. For alpha = 1, it is an L1 penalty.'): 0.5, Param(parent='LogisticRegression_486ff5ef25d2', name='threshold', doc='Threshold in binary classification prediction, in range [0, 1]. If threshold and thresholds are both set, they must match.e.g. if threshold is p, then thresholds must be equal to [1-p, p].'): 0.6}, Metric: 0.9102350987643231\n",
            "Params: {Param(parent='LogisticRegression_486ff5ef25d2', name='regParam', doc='regularization parameter (>= 0).'): 0.1, Param(parent='LogisticRegression_486ff5ef25d2', name='elasticNetParam', doc='the ElasticNet mixing parameter, in range [0, 1]. For alpha = 0, the penalty is an L2 penalty. For alpha = 1, it is an L1 penalty.'): 1.0, Param(parent='LogisticRegression_486ff5ef25d2', name='threshold', doc='Threshold in binary classification prediction, in range [0, 1]. If threshold and thresholds are both set, they must match.e.g. if threshold is p, then thresholds must be equal to [1-p, p].'): 0.2}, Metric: 0.9102343519875378\n",
            "Params: {Param(parent='LogisticRegression_486ff5ef25d2', name='regParam', doc='regularization parameter (>= 0).'): 0.1, Param(parent='LogisticRegression_486ff5ef25d2', name='elasticNetParam', doc='the ElasticNet mixing parameter, in range [0, 1]. For alpha = 0, the penalty is an L2 penalty. For alpha = 1, it is an L1 penalty.'): 1.0, Param(parent='LogisticRegression_486ff5ef25d2', name='threshold', doc='Threshold in binary classification prediction, in range [0, 1]. If threshold and thresholds are both set, they must match.e.g. if threshold is p, then thresholds must be equal to [1-p, p].'): 0.5}, Metric: 0.910236195301606\n",
            "Params: {Param(parent='LogisticRegression_486ff5ef25d2', name='regParam', doc='regularization parameter (>= 0).'): 0.1, Param(parent='LogisticRegression_486ff5ef25d2', name='elasticNetParam', doc='the ElasticNet mixing parameter, in range [0, 1]. For alpha = 0, the penalty is an L2 penalty. For alpha = 1, it is an L1 penalty.'): 1.0, Param(parent='LogisticRegression_486ff5ef25d2', name='threshold', doc='Threshold in binary classification prediction, in range [0, 1]. If threshold and thresholds are both set, they must match.e.g. if threshold is p, then thresholds must be equal to [1-p, p].'): 0.6}, Metric: 0.9102352832712584\n",
            "Params: {Param(parent='LogisticRegression_486ff5ef25d2', name='regParam', doc='regularization parameter (>= 0).'): 0.5, Param(parent='LogisticRegression_486ff5ef25d2', name='elasticNetParam', doc='the ElasticNet mixing parameter, in range [0, 1]. For alpha = 0, the penalty is an L2 penalty. For alpha = 1, it is an L1 penalty.'): 0.0, Param(parent='LogisticRegression_486ff5ef25d2', name='threshold', doc='Threshold in binary classification prediction, in range [0, 1]. If threshold and thresholds are both set, they must match.e.g. if threshold is p, then thresholds must be equal to [1-p, p].'): 0.2}, Metric: 0.9102359269017517\n",
            "Params: {Param(parent='LogisticRegression_486ff5ef25d2', name='regParam', doc='regularization parameter (>= 0).'): 0.5, Param(parent='LogisticRegression_486ff5ef25d2', name='elasticNetParam', doc='the ElasticNet mixing parameter, in range [0, 1]. For alpha = 0, the penalty is an L2 penalty. For alpha = 1, it is an L1 penalty.'): 0.0, Param(parent='LogisticRegression_486ff5ef25d2', name='threshold', doc='Threshold in binary classification prediction, in range [0, 1]. If threshold and thresholds are both set, they must match.e.g. if threshold is p, then thresholds must be equal to [1-p, p].'): 0.5}, Metric: 0.9102384807535708\n",
            "Params: {Param(parent='LogisticRegression_486ff5ef25d2', name='regParam', doc='regularization parameter (>= 0).'): 0.5, Param(parent='LogisticRegression_486ff5ef25d2', name='elasticNetParam', doc='the ElasticNet mixing parameter, in range [0, 1]. For alpha = 0, the penalty is an L2 penalty. For alpha = 1, it is an L1 penalty.'): 0.0, Param(parent='LogisticRegression_486ff5ef25d2', name='threshold', doc='Threshold in binary classification prediction, in range [0, 1]. If threshold and thresholds are both set, they must match.e.g. if threshold is p, then thresholds must be equal to [1-p, p].'): 0.6}, Metric: 0.9102366497397621\n",
            "Params: {Param(parent='LogisticRegression_486ff5ef25d2', name='regParam', doc='regularization parameter (>= 0).'): 0.5, Param(parent='LogisticRegression_486ff5ef25d2', name='elasticNetParam', doc='the ElasticNet mixing parameter, in range [0, 1]. For alpha = 0, the penalty is an L2 penalty. For alpha = 1, it is an L1 penalty.'): 0.5, Param(parent='LogisticRegression_486ff5ef25d2', name='threshold', doc='Threshold in binary classification prediction, in range [0, 1]. If threshold and thresholds are both set, they must match.e.g. if threshold is p, then thresholds must be equal to [1-p, p].'): 0.2}, Metric: 0.9102369175452486\n",
            "Params: {Param(parent='LogisticRegression_486ff5ef25d2', name='regParam', doc='regularization parameter (>= 0).'): 0.5, Param(parent='LogisticRegression_486ff5ef25d2', name='elasticNetParam', doc='the ElasticNet mixing parameter, in range [0, 1]. For alpha = 0, the penalty is an L2 penalty. For alpha = 1, it is an L1 penalty.'): 0.5, Param(parent='LogisticRegression_486ff5ef25d2', name='threshold', doc='Threshold in binary classification prediction, in range [0, 1]. If threshold and thresholds are both set, they must match.e.g. if threshold is p, then thresholds must be equal to [1-p, p].'): 0.5}, Metric: 0.910238120724469\n",
            "Params: {Param(parent='LogisticRegression_486ff5ef25d2', name='regParam', doc='regularization parameter (>= 0).'): 0.5, Param(parent='LogisticRegression_486ff5ef25d2', name='elasticNetParam', doc='the ElasticNet mixing parameter, in range [0, 1]. For alpha = 0, the penalty is an L2 penalty. For alpha = 1, it is an L1 penalty.'): 0.5, Param(parent='LogisticRegression_486ff5ef25d2', name='threshold', doc='Threshold in binary classification prediction, in range [0, 1]. If threshold and thresholds are both set, they must match.e.g. if threshold is p, then thresholds must be equal to [1-p, p].'): 0.6}, Metric: 0.9102360429972356\n",
            "Params: {Param(parent='LogisticRegression_486ff5ef25d2', name='regParam', doc='regularization parameter (>= 0).'): 0.5, Param(parent='LogisticRegression_486ff5ef25d2', name='elasticNetParam', doc='the ElasticNet mixing parameter, in range [0, 1]. For alpha = 0, the penalty is an L2 penalty. For alpha = 1, it is an L1 penalty.'): 1.0, Param(parent='LogisticRegression_486ff5ef25d2', name='threshold', doc='Threshold in binary classification prediction, in range [0, 1]. If threshold and thresholds are both set, they must match.e.g. if threshold is p, then thresholds must be equal to [1-p, p].'): 0.2}, Metric: 0.9102359658157242\n",
            "Params: {Param(parent='LogisticRegression_486ff5ef25d2', name='regParam', doc='regularization parameter (>= 0).'): 0.5, Param(parent='LogisticRegression_486ff5ef25d2', name='elasticNetParam', doc='the ElasticNet mixing parameter, in range [0, 1]. For alpha = 0, the penalty is an L2 penalty. For alpha = 1, it is an L1 penalty.'): 1.0, Param(parent='LogisticRegression_486ff5ef25d2', name='threshold', doc='Threshold in binary classification prediction, in range [0, 1]. If threshold and thresholds are both set, they must match.e.g. if threshold is p, then thresholds must be equal to [1-p, p].'): 0.5}, Metric: 0.9102359539136626\n",
            "Params: {Param(parent='LogisticRegression_486ff5ef25d2', name='regParam', doc='regularization parameter (>= 0).'): 0.5, Param(parent='LogisticRegression_486ff5ef25d2', name='elasticNetParam', doc='the ElasticNet mixing parameter, in range [0, 1]. For alpha = 0, the penalty is an L2 penalty. For alpha = 1, it is an L1 penalty.'): 1.0, Param(parent='LogisticRegression_486ff5ef25d2', name='threshold', doc='Threshold in binary classification prediction, in range [0, 1]. If threshold and thresholds are both set, they must match.e.g. if threshold is p, then thresholds must be equal to [1-p, p].'): 0.6}, Metric: 0.9102371965041648\n"
          ]
        }
      ]
    },
    {
      "cell_type": "code",
      "source": [
        "best_model_lr = cv_lr_Model.bestModel\n",
        "\n",
        "# Get the parameters of the best model\n",
        "best_model_params = best_model_lr.extractParamMap()\n",
        "\n",
        "print(\"Parameters of the Best Model:\")\n",
        "for param, value in best_model_params.items():\n",
        "    print(f\"{param.name}: {value}\")"
      ],
      "metadata": {
        "colab": {
          "base_uri": "https://localhost:8080/"
        },
        "id": "nimGoYI1o3OT",
        "outputId": "f5b02a39-4733-44bb-88d7-0af414356b75"
      },
      "execution_count": 57,
      "outputs": [
        {
          "output_type": "stream",
          "name": "stdout",
          "text": [
            "Parameters of the Best Model:\n",
            "aggregationDepth: 2\n",
            "elasticNetParam: 0.0\n",
            "family: auto\n",
            "featuresCol: features\n",
            "fitIntercept: True\n",
            "labelCol: label\n",
            "maxBlockSizeInMB: 0.0\n",
            "maxIter: 100\n",
            "predictionCol: prediction\n",
            "probabilityCol: probability\n",
            "rawPredictionCol: rawPrediction\n",
            "regParam: 0.0\n",
            "standardization: True\n",
            "threshold: 0.5\n",
            "tol: 1e-06\n"
          ]
        }
      ]
    },
    {
      "cell_type": "code",
      "source": [
        "print(f\"Train accuracy: {best_model_lr.summary.accuracy:.3f}\")\n",
        "print(f\"Train AU-ROC: {best_model_lr.summary.areaUnderROC:.3f}\")\n",
        "print(f\"Recall for class 0: {best_model_lr.summary.recallByLabel[0]:.3f} for class 1: {best_model_lr.summary.recallByLabel[0]:.3f}\")\n",
        "print(f\"Precision for class 0: {best_model_lr.summary.precisionByLabel[0]:.3f} for class 1: {best_model_lr.summary.precisionByLabel[0]:.3f}\")"
      ],
      "metadata": {
        "colab": {
          "base_uri": "https://localhost:8080/"
        },
        "id": "ju9yS0RgCKob",
        "outputId": "6775cb4f-e108-45f6-b3db-625be43c535a"
      },
      "execution_count": 68,
      "outputs": [
        {
          "output_type": "stream",
          "name": "stdout",
          "text": [
            "Train accuracy: 0.830\n",
            "Train AU-ROC: 0.912\n",
            "Recall for class 0: 0.799 for class 1: 0.799\n",
            "Precision for class 0: 0.851 for class 1: 0.851\n"
          ]
        }
      ]
    },
    {
      "cell_type": "code",
      "source": [
        "prediction_test = best_model_lr.transform(df_test.withColumnRenamed('incomeIndex','label'))\n",
        "\n",
        "print(f\"Train F1 score {F1_calc.evaluate(best_model_lr.transform(df_train)):.3f}\")\n",
        "\n",
        "print('\\n')\n",
        "\n",
        "print(f\"Test AU-ROC {AU_ROC_calc.evaluate(prediction_test):.3f}\")\n",
        "print(f\"Test accuracy {Accuracy_calc.evaluate(prediction_test):.3f}\")\n",
        "print(f\"Test F1_score {F1_calc.evaluate(prediction_test):.3f}\")"
      ],
      "metadata": {
        "colab": {
          "base_uri": "https://localhost:8080/"
        },
        "id": "AyrgS8O6DAlN",
        "outputId": "c02d70be-88c6-4ad1-c9a1-5504feb37930"
      },
      "execution_count": 69,
      "outputs": [
        {
          "output_type": "stream",
          "name": "stdout",
          "text": [
            "Train F1 score 0.829\n",
            "\n",
            "\n",
            "Test AU-ROC 0.905\n",
            "Test accuracy 0.805\n",
            "Test F1_score 0.817\n"
          ]
        }
      ]
    },
    {
      "cell_type": "markdown",
      "source": [
        "## Plot the AU-ROC of train set"
      ],
      "metadata": {
        "id": "fj_bPF7VDprS"
      }
    },
    {
      "cell_type": "code",
      "source": [
        "import matplotlib.pyplot as plt\n",
        "\n",
        "roc = best_model_lr.summary.roc.toPandas()\n",
        "plt.plot(roc['FPR'],roc['TPR'])\n",
        "plt.xlabel('False Positive Rate')\n",
        "plt.ylabel('True Positive Rate')\n",
        "plt.title('ROC Curve')\n",
        "plt.show()"
      ],
      "metadata": {
        "colab": {
          "base_uri": "https://localhost:8080/",
          "height": 472
        },
        "id": "8YJtB9W6Dc0n",
        "outputId": "1b7f2f45-091d-4cbd-bb52-ee0f8b72fba7"
      },
      "execution_count": 74,
      "outputs": [
        {
          "output_type": "display_data",
          "data": {
            "text/plain": [
              "<Figure size 640x480 with 1 Axes>"
            ],
            "image/png": "[encoded data removed]"
          },
          "metadata": {}
        }
      ]
    },
    {
      "cell_type": "markdown",
      "source": [
        "# Decision Tree Classifier benchmark"
      ],
      "metadata": {
        "id": "dWdUftTLEeo5"
      }
    },
    {
      "cell_type": "code",
      "source": [
        "from pyspark.ml.classification import DecisionTreeClassifier\n",
        "\n",
        "DT = DecisionTreeClassifier(featuresCol = 'features', labelCol = 'label')\n",
        "DT_benchmark = DT.fit(df_train)\n",
        "\n",
        "train_predictions = DT_benchmark.transform(df_train)\n",
        "test_predictions = DT_benchmark.transform(df_test.withColumnRenamed('incomeIndex','label'))\n",
        "\n",
        "print(f\"Train accuracy: {Accuracy_calc.evaluate(train_predictions):.3f}\")\n",
        "print(f\"Train F1_score: {F1_calc.evaluate(train_predictions):.3f}\")\n",
        "print(f\"Train AU-ROC: {AU_ROC_calc.evaluate(train_predictions):.3f}\")\n",
        "#print(f\"Recall for class 0: {DT_benchmark.summary.recallByLabel[0]:.3f} for class 1: {DT_benchmark.summary.recallByLabel[0]:.3f}\")\n",
        "#print(f\"Precision for class 0: {DT_benchmark.summary.precisionByLabel[0]:.3f} for class 1: {DT_benchmark.summary.precisionByLabel[0]:.3f}\")\n",
        "print('\\n')\n",
        "print(f\"Test AU-ROC {AU_ROC_calc.evaluate(test_predictions):.3f}\")\n",
        "print(f\"Test accuracy {Accuracy_calc.evaluate(test_predictions):.3f}\")\n",
        "print(f\"Test F1_score {F1_calc.evaluate(test_predictions):.3f}\")"
      ],
      "metadata": {
        "colab": {
          "base_uri": "https://localhost:8080/"
        },
        "id": "xxljlLaQElt5",
        "outputId": "fa69886f-42f8-4465-a6f5-17d01007fb8a"
      },
      "execution_count": 83,
      "outputs": [
        {
          "output_type": "stream",
          "name": "stdout",
          "text": [
            "Train accuracy: 0.824\n",
            "Train F1_score: 0.822\n",
            "Train AU-ROC: 0.834\n",
            "\n",
            "\n",
            "Test AU-ROC 0.827\n",
            "Test accuracy 0.764\n",
            "Test F1_score 0.782\n"
          ]
        }
      ]
    },
    {
      "cell_type": "code",
      "source": [
        "DT_tuned = DecisionTreeClassifier(featuresCol='features', labelCol='label')\n",
        "\n",
        "\n",
        "paramGrid = (ParamGridBuilder()\n",
        "    .addGrid(DT_tuned.maxDepth, [5, 10, 15])\n",
        "    .addGrid(DT_tuned.maxBins, [32, 64, 128])\n",
        "    .addGrid(DT_tuned.minInstancesPerNode, [1, 2, 4])\n",
        "    .addGrid(DT_tuned.impurity, ['gini', 'entropy']).build())\n",
        "\n",
        "crossval = CrossValidator(estimator=DT_tuned,\n",
        "                          estimatorParamMaps=paramGrid,\n",
        "                          evaluator=AU_ROC_calc,\n",
        "                          numFolds=5,\n",
        "                          parallelism=4)\n",
        "\n",
        "cv_DT_Model = crossval.fit(df_train)\n"
      ],
      "metadata": {
        "id": "RC-3peUdFYRZ"
      },
      "execution_count": 84,
      "outputs": []
    },
    {
      "cell_type": "code",
      "source": [
        "for params, metric in zip(paramGrid, cv_DT_Model.avgMetrics):\n",
        "    print(f\"Params: {params}, Metric: {metric}\")"
      ],
      "metadata": {
        "colab": {
          "base_uri": "https://localhost:8080/"
        },
        "id": "ThGUIMs7Kcgn",
        "outputId": "9b1b33e8-2b50-4653-bf20-20c769ef5d6f"
      },
      "execution_count": 85,
      "outputs": [
        {
          "output_type": "stream",
          "name": "stdout",
          "text": [
            "Params: {Param(parent='DecisionTreeClassifier_9a02ae462388', name='maxDepth', doc='Maximum depth of the tree. (>= 0) E.g., depth 0 means 1 leaf node; depth 1 means 1 internal node + 2 leaf nodes. Must be in range [0, 30].'): 5, Param(parent='DecisionTreeClassifier_9a02ae462388', name='maxBins', doc='Max number of bins for discretizing continuous features.  Must be >=2 and >= number of categories for any categorical feature.'): 32, Param(parent='DecisionTreeClassifier_9a02ae462388', name='minInstancesPerNode', doc='Minimum number of instances each child must have after split. If a split causes the left or right child to have fewer than minInstancesPerNode, the split will be discarded as invalid. Should be >= 1.'): 1, Param(parent='DecisionTreeClassifier_9a02ae462388', name='impurity', doc='Criterion used for information gain calculation (case-insensitive). Supported options: entropy, gini'): 'gini'}, Metric: 0.8029652235338827\n",
            "Params: {Param(parent='DecisionTreeClassifier_9a02ae462388', name='maxDepth', doc='Maximum depth of the tree. (>= 0) E.g., depth 0 means 1 leaf node; depth 1 means 1 internal node + 2 leaf nodes. Must be in range [0, 30].'): 5, Param(parent='DecisionTreeClassifier_9a02ae462388', name='maxBins', doc='Max number of bins for discretizing continuous features.  Must be >=2 and >= number of categories for any categorical feature.'): 32, Param(parent='DecisionTreeClassifier_9a02ae462388', name='minInstancesPerNode', doc='Minimum number of instances each child must have after split. If a split causes the left or right child to have fewer than minInstancesPerNode, the split will be discarded as invalid. Should be >= 1.'): 1, Param(parent='DecisionTreeClassifier_9a02ae462388', name='impurity', doc='Criterion used for information gain calculation (case-insensitive). Supported options: entropy, gini'): 'entropy'}, Metric: 0.7767679734907763\n",
            "Params: {Param(parent='DecisionTreeClassifier_9a02ae462388', name='maxDepth', doc='Maximum depth of the tree. (>= 0) E.g., depth 0 means 1 leaf node; depth 1 means 1 internal node + 2 leaf nodes. Must be in range [0, 30].'): 5, Param(parent='DecisionTreeClassifier_9a02ae462388', name='maxBins', doc='Max number of bins for discretizing continuous features.  Must be >=2 and >= number of categories for any categorical feature.'): 32, Param(parent='DecisionTreeClassifier_9a02ae462388', name='minInstancesPerNode', doc='Minimum number of instances each child must have after split. If a split causes the left or right child to have fewer than minInstancesPerNode, the split will be discarded as invalid. Should be >= 1.'): 2, Param(parent='DecisionTreeClassifier_9a02ae462388', name='impurity', doc='Criterion used for information gain calculation (case-insensitive). Supported options: entropy, gini'): 'gini'}, Metric: 0.8029211174302325\n",
            "Params: {Param(parent='DecisionTreeClassifier_9a02ae462388', name='maxDepth', doc='Maximum depth of the tree. (>= 0) E.g., depth 0 means 1 leaf node; depth 1 means 1 internal node + 2 leaf nodes. Must be in range [0, 30].'): 5, Param(parent='DecisionTreeClassifier_9a02ae462388', name='maxBins', doc='Max number of bins for discretizing continuous features.  Must be >=2 and >= number of categories for any categorical feature.'): 32, Param(parent='DecisionTreeClassifier_9a02ae462388', name='minInstancesPerNode', doc='Minimum number of instances each child must have after split. If a split causes the left or right child to have fewer than minInstancesPerNode, the split will be discarded as invalid. Should be >= 1.'): 2, Param(parent='DecisionTreeClassifier_9a02ae462388', name='impurity', doc='Criterion used for information gain calculation (case-insensitive). Supported options: entropy, gini'): 'entropy'}, Metric: 0.7764720024789148\n",
            "Params: {Param(parent='DecisionTreeClassifier_9a02ae462388', name='maxDepth', doc='Maximum depth of the tree. (>= 0) E.g., depth 0 means 1 leaf node; depth 1 means 1 internal node + 2 leaf nodes. Must be in range [0, 30].'): 5, Param(parent='DecisionTreeClassifier_9a02ae462388', name='maxBins', doc='Max number of bins for discretizing continuous features.  Must be >=2 and >= number of categories for any categorical feature.'): 32, Param(parent='DecisionTreeClassifier_9a02ae462388', name='minInstancesPerNode', doc='Minimum number of instances each child must have after split. If a split causes the left or right child to have fewer than minInstancesPerNode, the split will be discarded as invalid. Should be >= 1.'): 4, Param(parent='DecisionTreeClassifier_9a02ae462388', name='impurity', doc='Criterion used for information gain calculation (case-insensitive). Supported options: entropy, gini'): 'gini'}, Metric: 0.8025987551215854\n",
            "Params: {Param(parent='DecisionTreeClassifier_9a02ae462388', name='maxDepth', doc='Maximum depth of the tree. (>= 0) E.g., depth 0 means 1 leaf node; depth 1 means 1 internal node + 2 leaf nodes. Must be in range [0, 30].'): 5, Param(parent='DecisionTreeClassifier_9a02ae462388', name='maxBins', doc='Max number of bins for discretizing continuous features.  Must be >=2 and >= number of categories for any categorical feature.'): 32, Param(parent='DecisionTreeClassifier_9a02ae462388', name='minInstancesPerNode', doc='Minimum number of instances each child must have after split. If a split causes the left or right child to have fewer than minInstancesPerNode, the split will be discarded as invalid. Should be >= 1.'): 4, Param(parent='DecisionTreeClassifier_9a02ae462388', name='impurity', doc='Criterion used for information gain calculation (case-insensitive). Supported options: entropy, gini'): 'entropy'}, Metric: 0.8003323955528663\n",
            "Params: {Param(parent='DecisionTreeClassifier_9a02ae462388', name='maxDepth', doc='Maximum depth of the tree. (>= 0) E.g., depth 0 means 1 leaf node; depth 1 means 1 internal node + 2 leaf nodes. Must be in range [0, 30].'): 5, Param(parent='DecisionTreeClassifier_9a02ae462388', name='maxBins', doc='Max number of bins for discretizing continuous features.  Must be >=2 and >= number of categories for any categorical feature.'): 64, Param(parent='DecisionTreeClassifier_9a02ae462388', name='minInstancesPerNode', doc='Minimum number of instances each child must have after split. If a split causes the left or right child to have fewer than minInstancesPerNode, the split will be discarded as invalid. Should be >= 1.'): 1, Param(parent='DecisionTreeClassifier_9a02ae462388', name='impurity', doc='Criterion used for information gain calculation (case-insensitive). Supported options: entropy, gini'): 'gini'}, Metric: 0.7991241695742847\n",
            "Params: {Param(parent='DecisionTreeClassifier_9a02ae462388', name='maxDepth', doc='Maximum depth of the tree. (>= 0) E.g., depth 0 means 1 leaf node; depth 1 means 1 internal node + 2 leaf nodes. Must be in range [0, 30].'): 5, Param(parent='DecisionTreeClassifier_9a02ae462388', name='maxBins', doc='Max number of bins for discretizing continuous features.  Must be >=2 and >= number of categories for any categorical feature.'): 64, Param(parent='DecisionTreeClassifier_9a02ae462388', name='minInstancesPerNode', doc='Minimum number of instances each child must have after split. If a split causes the left or right child to have fewer than minInstancesPerNode, the split will be discarded as invalid. Should be >= 1.'): 1, Param(parent='DecisionTreeClassifier_9a02ae462388', name='impurity', doc='Criterion used for information gain calculation (case-insensitive). Supported options: entropy, gini'): 'entropy'}, Metric: 0.7699365824677902\n",
            "Params: {Param(parent='DecisionTreeClassifier_9a02ae462388', name='maxDepth', doc='Maximum depth of the tree. (>= 0) E.g., depth 0 means 1 leaf node; depth 1 means 1 internal node + 2 leaf nodes. Must be in range [0, 30].'): 5, Param(parent='DecisionTreeClassifier_9a02ae462388', name='maxBins', doc='Max number of bins for discretizing continuous features.  Must be >=2 and >= number of categories for any categorical feature.'): 64, Param(parent='DecisionTreeClassifier_9a02ae462388', name='minInstancesPerNode', doc='Minimum number of instances each child must have after split. If a split causes the left or right child to have fewer than minInstancesPerNode, the split will be discarded as invalid. Should be >= 1.'): 2, Param(parent='DecisionTreeClassifier_9a02ae462388', name='impurity', doc='Criterion used for information gain calculation (case-insensitive). Supported options: entropy, gini'): 'gini'}, Metric: 0.7994974573022123\n",
            "Params: {Param(parent='DecisionTreeClassifier_9a02ae462388', name='maxDepth', doc='Maximum depth of the tree. (>= 0) E.g., depth 0 means 1 leaf node; depth 1 means 1 internal node + 2 leaf nodes. Must be in range [0, 30].'): 5, Param(parent='DecisionTreeClassifier_9a02ae462388', name='maxBins', doc='Max number of bins for discretizing continuous features.  Must be >=2 and >= number of categories for any categorical feature.'): 64, Param(parent='DecisionTreeClassifier_9a02ae462388', name='minInstancesPerNode', doc='Minimum number of instances each child must have after split. If a split causes the left or right child to have fewer than minInstancesPerNode, the split will be discarded as invalid. Should be >= 1.'): 2, Param(parent='DecisionTreeClassifier_9a02ae462388', name='impurity', doc='Criterion used for information gain calculation (case-insensitive). Supported options: entropy, gini'): 'entropy'}, Metric: 0.7843957279110195\n",
            "Params: {Param(parent='DecisionTreeClassifier_9a02ae462388', name='maxDepth', doc='Maximum depth of the tree. (>= 0) E.g., depth 0 means 1 leaf node; depth 1 means 1 internal node + 2 leaf nodes. Must be in range [0, 30].'): 5, Param(parent='DecisionTreeClassifier_9a02ae462388', name='maxBins', doc='Max number of bins for discretizing continuous features.  Must be >=2 and >= number of categories for any categorical feature.'): 64, Param(parent='DecisionTreeClassifier_9a02ae462388', name='minInstancesPerNode', doc='Minimum number of instances each child must have after split. If a split causes the left or right child to have fewer than minInstancesPerNode, the split will be discarded as invalid. Should be >= 1.'): 4, Param(parent='DecisionTreeClassifier_9a02ae462388', name='impurity', doc='Criterion used for information gain calculation (case-insensitive). Supported options: entropy, gini'): 'gini'}, Metric: 0.7988611088527897\n",
            "Params: {Param(parent='DecisionTreeClassifier_9a02ae462388', name='maxDepth', doc='Maximum depth of the tree. (>= 0) E.g., depth 0 means 1 leaf node; depth 1 means 1 internal node + 2 leaf nodes. Must be in range [0, 30].'): 5, Param(parent='DecisionTreeClassifier_9a02ae462388', name='maxBins', doc='Max number of bins for discretizing continuous features.  Must be >=2 and >= number of categories for any categorical feature.'): 64, Param(parent='DecisionTreeClassifier_9a02ae462388', name='minInstancesPerNode', doc='Minimum number of instances each child must have after split. If a split causes the left or right child to have fewer than minInstancesPerNode, the split will be discarded as invalid. Should be >= 1.'): 4, Param(parent='DecisionTreeClassifier_9a02ae462388', name='impurity', doc='Criterion used for information gain calculation (case-insensitive). Supported options: entropy, gini'): 'entropy'}, Metric: 0.7848014863560991\n",
            "Params: {Param(parent='DecisionTreeClassifier_9a02ae462388', name='maxDepth', doc='Maximum depth of the tree. (>= 0) E.g., depth 0 means 1 leaf node; depth 1 means 1 internal node + 2 leaf nodes. Must be in range [0, 30].'): 5, Param(parent='DecisionTreeClassifier_9a02ae462388', name='maxBins', doc='Max number of bins for discretizing continuous features.  Must be >=2 and >= number of categories for any categorical feature.'): 128, Param(parent='DecisionTreeClassifier_9a02ae462388', name='minInstancesPerNode', doc='Minimum number of instances each child must have after split. If a split causes the left or right child to have fewer than minInstancesPerNode, the split will be discarded as invalid. Should be >= 1.'): 1, Param(parent='DecisionTreeClassifier_9a02ae462388', name='impurity', doc='Criterion used for information gain calculation (case-insensitive). Supported options: entropy, gini'): 'gini'}, Metric: 0.8004155819622388\n",
            "Params: {Param(parent='DecisionTreeClassifier_9a02ae462388', name='maxDepth', doc='Maximum depth of the tree. (>= 0) E.g., depth 0 means 1 leaf node; depth 1 means 1 internal node + 2 leaf nodes. Must be in range [0, 30].'): 5, Param(parent='DecisionTreeClassifier_9a02ae462388', name='maxBins', doc='Max number of bins for discretizing continuous features.  Must be >=2 and >= number of categories for any categorical feature.'): 128, Param(parent='DecisionTreeClassifier_9a02ae462388', name='minInstancesPerNode', doc='Minimum number of instances each child must have after split. If a split causes the left or right child to have fewer than minInstancesPerNode, the split will be discarded as invalid. Should be >= 1.'): 1, Param(parent='DecisionTreeClassifier_9a02ae462388', name='impurity', doc='Criterion used for information gain calculation (case-insensitive). Supported options: entropy, gini'): 'entropy'}, Metric: 0.7502827068806487\n",
            "Params: {Param(parent='DecisionTreeClassifier_9a02ae462388', name='maxDepth', doc='Maximum depth of the tree. (>= 0) E.g., depth 0 means 1 leaf node; depth 1 means 1 internal node + 2 leaf nodes. Must be in range [0, 30].'): 5, Param(parent='DecisionTreeClassifier_9a02ae462388', name='maxBins', doc='Max number of bins for discretizing continuous features.  Must be >=2 and >= number of categories for any categorical feature.'): 128, Param(parent='DecisionTreeClassifier_9a02ae462388', name='minInstancesPerNode', doc='Minimum number of instances each child must have after split. If a split causes the left or right child to have fewer than minInstancesPerNode, the split will be discarded as invalid. Should be >= 1.'): 2, Param(parent='DecisionTreeClassifier_9a02ae462388', name='impurity', doc='Criterion used for information gain calculation (case-insensitive). Supported options: entropy, gini'): 'gini'}, Metric: 0.8003768187329625\n",
            "Params: {Param(parent='DecisionTreeClassifier_9a02ae462388', name='maxDepth', doc='Maximum depth of the tree. (>= 0) E.g., depth 0 means 1 leaf node; depth 1 means 1 internal node + 2 leaf nodes. Must be in range [0, 30].'): 5, Param(parent='DecisionTreeClassifier_9a02ae462388', name='maxBins', doc='Max number of bins for discretizing continuous features.  Must be >=2 and >= number of categories for any categorical feature.'): 128, Param(parent='DecisionTreeClassifier_9a02ae462388', name='minInstancesPerNode', doc='Minimum number of instances each child must have after split. If a split causes the left or right child to have fewer than minInstancesPerNode, the split will be discarded as invalid. Should be >= 1.'): 2, Param(parent='DecisionTreeClassifier_9a02ae462388', name='impurity', doc='Criterion used for information gain calculation (case-insensitive). Supported options: entropy, gini'): 'entropy'}, Metric: 0.7626368203932278\n",
            "Params: {Param(parent='DecisionTreeClassifier_9a02ae462388', name='maxDepth', doc='Maximum depth of the tree. (>= 0) E.g., depth 0 means 1 leaf node; depth 1 means 1 internal node + 2 leaf nodes. Must be in range [0, 30].'): 5, Param(parent='DecisionTreeClassifier_9a02ae462388', name='maxBins', doc='Max number of bins for discretizing continuous features.  Must be >=2 and >= number of categories for any categorical feature.'): 128, Param(parent='DecisionTreeClassifier_9a02ae462388', name='minInstancesPerNode', doc='Minimum number of instances each child must have after split. If a split causes the left or right child to have fewer than minInstancesPerNode, the split will be discarded as invalid. Should be >= 1.'): 4, Param(parent='DecisionTreeClassifier_9a02ae462388', name='impurity', doc='Criterion used for information gain calculation (case-insensitive). Supported options: entropy, gini'): 'gini'}, Metric: 0.7996734182589016\n",
            "Params: {Param(parent='DecisionTreeClassifier_9a02ae462388', name='maxDepth', doc='Maximum depth of the tree. (>= 0) E.g., depth 0 means 1 leaf node; depth 1 means 1 internal node + 2 leaf nodes. Must be in range [0, 30].'): 5, Param(parent='DecisionTreeClassifier_9a02ae462388', name='maxBins', doc='Max number of bins for discretizing continuous features.  Must be >=2 and >= number of categories for any categorical feature.'): 128, Param(parent='DecisionTreeClassifier_9a02ae462388', name='minInstancesPerNode', doc='Minimum number of instances each child must have after split. If a split causes the left or right child to have fewer than minInstancesPerNode, the split will be discarded as invalid. Should be >= 1.'): 4, Param(parent='DecisionTreeClassifier_9a02ae462388', name='impurity', doc='Criterion used for information gain calculation (case-insensitive). Supported options: entropy, gini'): 'entropy'}, Metric: 0.7688514437229174\n",
            "Params: {Param(parent='DecisionTreeClassifier_9a02ae462388', name='maxDepth', doc='Maximum depth of the tree. (>= 0) E.g., depth 0 means 1 leaf node; depth 1 means 1 internal node + 2 leaf nodes. Must be in range [0, 30].'): 10, Param(parent='DecisionTreeClassifier_9a02ae462388', name='maxBins', doc='Max number of bins for discretizing continuous features.  Must be >=2 and >= number of categories for any categorical feature.'): 32, Param(parent='DecisionTreeClassifier_9a02ae462388', name='minInstancesPerNode', doc='Minimum number of instances each child must have after split. If a split causes the left or right child to have fewer than minInstancesPerNode, the split will be discarded as invalid. Should be >= 1.'): 1, Param(parent='DecisionTreeClassifier_9a02ae462388', name='impurity', doc='Criterion used for information gain calculation (case-insensitive). Supported options: entropy, gini'): 'gini'}, Metric: 0.8138604610863001\n",
            "Params: {Param(parent='DecisionTreeClassifier_9a02ae462388', name='maxDepth', doc='Maximum depth of the tree. (>= 0) E.g., depth 0 means 1 leaf node; depth 1 means 1 internal node + 2 leaf nodes. Must be in range [0, 30].'): 10, Param(parent='DecisionTreeClassifier_9a02ae462388', name='maxBins', doc='Max number of bins for discretizing continuous features.  Must be >=2 and >= number of categories for any categorical feature.'): 32, Param(parent='DecisionTreeClassifier_9a02ae462388', name='minInstancesPerNode', doc='Minimum number of instances each child must have after split. If a split causes the left or right child to have fewer than minInstancesPerNode, the split will be discarded as invalid. Should be >= 1.'): 1, Param(parent='DecisionTreeClassifier_9a02ae462388', name='impurity', doc='Criterion used for information gain calculation (case-insensitive). Supported options: entropy, gini'): 'entropy'}, Metric: 0.8007508619438921\n",
            "Params: {Param(parent='DecisionTreeClassifier_9a02ae462388', name='maxDepth', doc='Maximum depth of the tree. (>= 0) E.g., depth 0 means 1 leaf node; depth 1 means 1 internal node + 2 leaf nodes. Must be in range [0, 30].'): 10, Param(parent='DecisionTreeClassifier_9a02ae462388', name='maxBins', doc='Max number of bins for discretizing continuous features.  Must be >=2 and >= number of categories for any categorical feature.'): 32, Param(parent='DecisionTreeClassifier_9a02ae462388', name='minInstancesPerNode', doc='Minimum number of instances each child must have after split. If a split causes the left or right child to have fewer than minInstancesPerNode, the split will be discarded as invalid. Should be >= 1.'): 2, Param(parent='DecisionTreeClassifier_9a02ae462388', name='impurity', doc='Criterion used for information gain calculation (case-insensitive). Supported options: entropy, gini'): 'gini'}, Metric: 0.8087132026748804\n",
            "Params: {Param(parent='DecisionTreeClassifier_9a02ae462388', name='maxDepth', doc='Maximum depth of the tree. (>= 0) E.g., depth 0 means 1 leaf node; depth 1 means 1 internal node + 2 leaf nodes. Must be in range [0, 30].'): 10, Param(parent='DecisionTreeClassifier_9a02ae462388', name='maxBins', doc='Max number of bins for discretizing continuous features.  Must be >=2 and >= number of categories for any categorical feature.'): 32, Param(parent='DecisionTreeClassifier_9a02ae462388', name='minInstancesPerNode', doc='Minimum number of instances each child must have after split. If a split causes the left or right child to have fewer than minInstancesPerNode, the split will be discarded as invalid. Should be >= 1.'): 2, Param(parent='DecisionTreeClassifier_9a02ae462388', name='impurity', doc='Criterion used for information gain calculation (case-insensitive). Supported options: entropy, gini'): 'entropy'}, Metric: 0.80028601294022\n",
            "Params: {Param(parent='DecisionTreeClassifier_9a02ae462388', name='maxDepth', doc='Maximum depth of the tree. (>= 0) E.g., depth 0 means 1 leaf node; depth 1 means 1 internal node + 2 leaf nodes. Must be in range [0, 30].'): 10, Param(parent='DecisionTreeClassifier_9a02ae462388', name='maxBins', doc='Max number of bins for discretizing continuous features.  Must be >=2 and >= number of categories for any categorical feature.'): 32, Param(parent='DecisionTreeClassifier_9a02ae462388', name='minInstancesPerNode', doc='Minimum number of instances each child must have after split. If a split causes the left or right child to have fewer than minInstancesPerNode, the split will be discarded as invalid. Should be >= 1.'): 4, Param(parent='DecisionTreeClassifier_9a02ae462388', name='impurity', doc='Criterion used for information gain calculation (case-insensitive). Supported options: entropy, gini'): 'gini'}, Metric: 0.8078443492773945\n",
            "Params: {Param(parent='DecisionTreeClassifier_9a02ae462388', name='maxDepth', doc='Maximum depth of the tree. (>= 0) E.g., depth 0 means 1 leaf node; depth 1 means 1 internal node + 2 leaf nodes. Must be in range [0, 30].'): 10, Param(parent='DecisionTreeClassifier_9a02ae462388', name='maxBins', doc='Max number of bins for discretizing continuous features.  Must be >=2 and >= number of categories for any categorical feature.'): 32, Param(parent='DecisionTreeClassifier_9a02ae462388', name='minInstancesPerNode', doc='Minimum number of instances each child must have after split. If a split causes the left or right child to have fewer than minInstancesPerNode, the split will be discarded as invalid. Should be >= 1.'): 4, Param(parent='DecisionTreeClassifier_9a02ae462388', name='impurity', doc='Criterion used for information gain calculation (case-insensitive). Supported options: entropy, gini'): 'entropy'}, Metric: 0.7991502273220068\n",
            "Params: {Param(parent='DecisionTreeClassifier_9a02ae462388', name='maxDepth', doc='Maximum depth of the tree. (>= 0) E.g., depth 0 means 1 leaf node; depth 1 means 1 internal node + 2 leaf nodes. Must be in range [0, 30].'): 10, Param(parent='DecisionTreeClassifier_9a02ae462388', name='maxBins', doc='Max number of bins for discretizing continuous features.  Must be >=2 and >= number of categories for any categorical feature.'): 64, Param(parent='DecisionTreeClassifier_9a02ae462388', name='minInstancesPerNode', doc='Minimum number of instances each child must have after split. If a split causes the left or right child to have fewer than minInstancesPerNode, the split will be discarded as invalid. Should be >= 1.'): 1, Param(parent='DecisionTreeClassifier_9a02ae462388', name='impurity', doc='Criterion used for information gain calculation (case-insensitive). Supported options: entropy, gini'): 'gini'}, Metric: 0.822465545426405\n",
            "Params: {Param(parent='DecisionTreeClassifier_9a02ae462388', name='maxDepth', doc='Maximum depth of the tree. (>= 0) E.g., depth 0 means 1 leaf node; depth 1 means 1 internal node + 2 leaf nodes. Must be in range [0, 30].'): 10, Param(parent='DecisionTreeClassifier_9a02ae462388', name='maxBins', doc='Max number of bins for discretizing continuous features.  Must be >=2 and >= number of categories for any categorical feature.'): 64, Param(parent='DecisionTreeClassifier_9a02ae462388', name='minInstancesPerNode', doc='Minimum number of instances each child must have after split. If a split causes the left or right child to have fewer than minInstancesPerNode, the split will be discarded as invalid. Should be >= 1.'): 1, Param(parent='DecisionTreeClassifier_9a02ae462388', name='impurity', doc='Criterion used for information gain calculation (case-insensitive). Supported options: entropy, gini'): 'entropy'}, Metric: 0.8270469676528023\n",
            "Params: {Param(parent='DecisionTreeClassifier_9a02ae462388', name='maxDepth', doc='Maximum depth of the tree. (>= 0) E.g., depth 0 means 1 leaf node; depth 1 means 1 internal node + 2 leaf nodes. Must be in range [0, 30].'): 10, Param(parent='DecisionTreeClassifier_9a02ae462388', name='maxBins', doc='Max number of bins for discretizing continuous features.  Must be >=2 and >= number of categories for any categorical feature.'): 64, Param(parent='DecisionTreeClassifier_9a02ae462388', name='minInstancesPerNode', doc='Minimum number of instances each child must have after split. If a split causes the left or right child to have fewer than minInstancesPerNode, the split will be discarded as invalid. Should be >= 1.'): 2, Param(parent='DecisionTreeClassifier_9a02ae462388', name='impurity', doc='Criterion used for information gain calculation (case-insensitive). Supported options: entropy, gini'): 'gini'}, Metric: 0.8194872602764031\n",
            "Params: {Param(parent='DecisionTreeClassifier_9a02ae462388', name='maxDepth', doc='Maximum depth of the tree. (>= 0) E.g., depth 0 means 1 leaf node; depth 1 means 1 internal node + 2 leaf nodes. Must be in range [0, 30].'): 10, Param(parent='DecisionTreeClassifier_9a02ae462388', name='maxBins', doc='Max number of bins for discretizing continuous features.  Must be >=2 and >= number of categories for any categorical feature.'): 64, Param(parent='DecisionTreeClassifier_9a02ae462388', name='minInstancesPerNode', doc='Minimum number of instances each child must have after split. If a split causes the left or right child to have fewer than minInstancesPerNode, the split will be discarded as invalid. Should be >= 1.'): 2, Param(parent='DecisionTreeClassifier_9a02ae462388', name='impurity', doc='Criterion used for information gain calculation (case-insensitive). Supported options: entropy, gini'): 'entropy'}, Metric: 0.8248041427960986\n",
            "Params: {Param(parent='DecisionTreeClassifier_9a02ae462388', name='maxDepth', doc='Maximum depth of the tree. (>= 0) E.g., depth 0 means 1 leaf node; depth 1 means 1 internal node + 2 leaf nodes. Must be in range [0, 30].'): 10, Param(parent='DecisionTreeClassifier_9a02ae462388', name='maxBins', doc='Max number of bins for discretizing continuous features.  Must be >=2 and >= number of categories for any categorical feature.'): 64, Param(parent='DecisionTreeClassifier_9a02ae462388', name='minInstancesPerNode', doc='Minimum number of instances each child must have after split. If a split causes the left or right child to have fewer than minInstancesPerNode, the split will be discarded as invalid. Should be >= 1.'): 4, Param(parent='DecisionTreeClassifier_9a02ae462388', name='impurity', doc='Criterion used for information gain calculation (case-insensitive). Supported options: entropy, gini'): 'gini'}, Metric: 0.8191797643576116\n",
            "Params: {Param(parent='DecisionTreeClassifier_9a02ae462388', name='maxDepth', doc='Maximum depth of the tree. (>= 0) E.g., depth 0 means 1 leaf node; depth 1 means 1 internal node + 2 leaf nodes. Must be in range [0, 30].'): 10, Param(parent='DecisionTreeClassifier_9a02ae462388', name='maxBins', doc='Max number of bins for discretizing continuous features.  Must be >=2 and >= number of categories for any categorical feature.'): 64, Param(parent='DecisionTreeClassifier_9a02ae462388', name='minInstancesPerNode', doc='Minimum number of instances each child must have after split. If a split causes the left or right child to have fewer than minInstancesPerNode, the split will be discarded as invalid. Should be >= 1.'): 4, Param(parent='DecisionTreeClassifier_9a02ae462388', name='impurity', doc='Criterion used for information gain calculation (case-insensitive). Supported options: entropy, gini'): 'entropy'}, Metric: 0.8236183010905197\n",
            "Params: {Param(parent='DecisionTreeClassifier_9a02ae462388', name='maxDepth', doc='Maximum depth of the tree. (>= 0) E.g., depth 0 means 1 leaf node; depth 1 means 1 internal node + 2 leaf nodes. Must be in range [0, 30].'): 10, Param(parent='DecisionTreeClassifier_9a02ae462388', name='maxBins', doc='Max number of bins for discretizing continuous features.  Must be >=2 and >= number of categories for any categorical feature.'): 128, Param(parent='DecisionTreeClassifier_9a02ae462388', name='minInstancesPerNode', doc='Minimum number of instances each child must have after split. If a split causes the left or right child to have fewer than minInstancesPerNode, the split will be discarded as invalid. Should be >= 1.'): 1, Param(parent='DecisionTreeClassifier_9a02ae462388', name='impurity', doc='Criterion used for information gain calculation (case-insensitive). Supported options: entropy, gini'): 'gini'}, Metric: 0.8191552258594198\n",
            "Params: {Param(parent='DecisionTreeClassifier_9a02ae462388', name='maxDepth', doc='Maximum depth of the tree. (>= 0) E.g., depth 0 means 1 leaf node; depth 1 means 1 internal node + 2 leaf nodes. Must be in range [0, 30].'): 10, Param(parent='DecisionTreeClassifier_9a02ae462388', name='maxBins', doc='Max number of bins for discretizing continuous features.  Must be >=2 and >= number of categories for any categorical feature.'): 128, Param(parent='DecisionTreeClassifier_9a02ae462388', name='minInstancesPerNode', doc='Minimum number of instances each child must have after split. If a split causes the left or right child to have fewer than minInstancesPerNode, the split will be discarded as invalid. Should be >= 1.'): 1, Param(parent='DecisionTreeClassifier_9a02ae462388', name='impurity', doc='Criterion used for information gain calculation (case-insensitive). Supported options: entropy, gini'): 'entropy'}, Metric: 0.8265629496920306\n",
            "Params: {Param(parent='DecisionTreeClassifier_9a02ae462388', name='maxDepth', doc='Maximum depth of the tree. (>= 0) E.g., depth 0 means 1 leaf node; depth 1 means 1 internal node + 2 leaf nodes. Must be in range [0, 30].'): 10, Param(parent='DecisionTreeClassifier_9a02ae462388', name='maxBins', doc='Max number of bins for discretizing continuous features.  Must be >=2 and >= number of categories for any categorical feature.'): 128, Param(parent='DecisionTreeClassifier_9a02ae462388', name='minInstancesPerNode', doc='Minimum number of instances each child must have after split. If a split causes the left or right child to have fewer than minInstancesPerNode, the split will be discarded as invalid. Should be >= 1.'): 2, Param(parent='DecisionTreeClassifier_9a02ae462388', name='impurity', doc='Criterion used for information gain calculation (case-insensitive). Supported options: entropy, gini'): 'gini'}, Metric: 0.81664485639611\n",
            "Params: {Param(parent='DecisionTreeClassifier_9a02ae462388', name='maxDepth', doc='Maximum depth of the tree. (>= 0) E.g., depth 0 means 1 leaf node; depth 1 means 1 internal node + 2 leaf nodes. Must be in range [0, 30].'): 10, Param(parent='DecisionTreeClassifier_9a02ae462388', name='maxBins', doc='Max number of bins for discretizing continuous features.  Must be >=2 and >= number of categories for any categorical feature.'): 128, Param(parent='DecisionTreeClassifier_9a02ae462388', name='minInstancesPerNode', doc='Minimum number of instances each child must have after split. If a split causes the left or right child to have fewer than minInstancesPerNode, the split will be discarded as invalid. Should be >= 1.'): 2, Param(parent='DecisionTreeClassifier_9a02ae462388', name='impurity', doc='Criterion used for information gain calculation (case-insensitive). Supported options: entropy, gini'): 'entropy'}, Metric: 0.8259073121880949\n",
            "Params: {Param(parent='DecisionTreeClassifier_9a02ae462388', name='maxDepth', doc='Maximum depth of the tree. (>= 0) E.g., depth 0 means 1 leaf node; depth 1 means 1 internal node + 2 leaf nodes. Must be in range [0, 30].'): 10, Param(parent='DecisionTreeClassifier_9a02ae462388', name='maxBins', doc='Max number of bins for discretizing continuous features.  Must be >=2 and >= number of categories for any categorical feature.'): 128, Param(parent='DecisionTreeClassifier_9a02ae462388', name='minInstancesPerNode', doc='Minimum number of instances each child must have after split. If a split causes the left or right child to have fewer than minInstancesPerNode, the split will be discarded as invalid. Should be >= 1.'): 4, Param(parent='DecisionTreeClassifier_9a02ae462388', name='impurity', doc='Criterion used for information gain calculation (case-insensitive). Supported options: entropy, gini'): 'gini'}, Metric: 0.815159596815419\n",
            "Params: {Param(parent='DecisionTreeClassifier_9a02ae462388', name='maxDepth', doc='Maximum depth of the tree. (>= 0) E.g., depth 0 means 1 leaf node; depth 1 means 1 internal node + 2 leaf nodes. Must be in range [0, 30].'): 10, Param(parent='DecisionTreeClassifier_9a02ae462388', name='maxBins', doc='Max number of bins for discretizing continuous features.  Must be >=2 and >= number of categories for any categorical feature.'): 128, Param(parent='DecisionTreeClassifier_9a02ae462388', name='minInstancesPerNode', doc='Minimum number of instances each child must have after split. If a split causes the left or right child to have fewer than minInstancesPerNode, the split will be discarded as invalid. Should be >= 1.'): 4, Param(parent='DecisionTreeClassifier_9a02ae462388', name='impurity', doc='Criterion used for information gain calculation (case-insensitive). Supported options: entropy, gini'): 'entropy'}, Metric: 0.8271472323980189\n",
            "Params: {Param(parent='DecisionTreeClassifier_9a02ae462388', name='maxDepth', doc='Maximum depth of the tree. (>= 0) E.g., depth 0 means 1 leaf node; depth 1 means 1 internal node + 2 leaf nodes. Must be in range [0, 30].'): 15, Param(parent='DecisionTreeClassifier_9a02ae462388', name='maxBins', doc='Max number of bins for discretizing continuous features.  Must be >=2 and >= number of categories for any categorical feature.'): 32, Param(parent='DecisionTreeClassifier_9a02ae462388', name='minInstancesPerNode', doc='Minimum number of instances each child must have after split. If a split causes the left or right child to have fewer than minInstancesPerNode, the split will be discarded as invalid. Should be >= 1.'): 1, Param(parent='DecisionTreeClassifier_9a02ae462388', name='impurity', doc='Criterion used for information gain calculation (case-insensitive). Supported options: entropy, gini'): 'gini'}, Metric: 0.8273156436147397\n",
            "Params: {Param(parent='DecisionTreeClassifier_9a02ae462388', name='maxDepth', doc='Maximum depth of the tree. (>= 0) E.g., depth 0 means 1 leaf node; depth 1 means 1 internal node + 2 leaf nodes. Must be in range [0, 30].'): 15, Param(parent='DecisionTreeClassifier_9a02ae462388', name='maxBins', doc='Max number of bins for discretizing continuous features.  Must be >=2 and >= number of categories for any categorical feature.'): 32, Param(parent='DecisionTreeClassifier_9a02ae462388', name='minInstancesPerNode', doc='Minimum number of instances each child must have after split. If a split causes the left or right child to have fewer than minInstancesPerNode, the split will be discarded as invalid. Should be >= 1.'): 1, Param(parent='DecisionTreeClassifier_9a02ae462388', name='impurity', doc='Criterion used for information gain calculation (case-insensitive). Supported options: entropy, gini'): 'entropy'}, Metric: 0.8353653581185352\n",
            "Params: {Param(parent='DecisionTreeClassifier_9a02ae462388', name='maxDepth', doc='Maximum depth of the tree. (>= 0) E.g., depth 0 means 1 leaf node; depth 1 means 1 internal node + 2 leaf nodes. Must be in range [0, 30].'): 15, Param(parent='DecisionTreeClassifier_9a02ae462388', name='maxBins', doc='Max number of bins for discretizing continuous features.  Must be >=2 and >= number of categories for any categorical feature.'): 32, Param(parent='DecisionTreeClassifier_9a02ae462388', name='minInstancesPerNode', doc='Minimum number of instances each child must have after split. If a split causes the left or right child to have fewer than minInstancesPerNode, the split will be discarded as invalid. Should be >= 1.'): 2, Param(parent='DecisionTreeClassifier_9a02ae462388', name='impurity', doc='Criterion used for information gain calculation (case-insensitive). Supported options: entropy, gini'): 'gini'}, Metric: 0.8076047809858439\n",
            "Params: {Param(parent='DecisionTreeClassifier_9a02ae462388', name='maxDepth', doc='Maximum depth of the tree. (>= 0) E.g., depth 0 means 1 leaf node; depth 1 means 1 internal node + 2 leaf nodes. Must be in range [0, 30].'): 15, Param(parent='DecisionTreeClassifier_9a02ae462388', name='maxBins', doc='Max number of bins for discretizing continuous features.  Must be >=2 and >= number of categories for any categorical feature.'): 32, Param(parent='DecisionTreeClassifier_9a02ae462388', name='minInstancesPerNode', doc='Minimum number of instances each child must have after split. If a split causes the left or right child to have fewer than minInstancesPerNode, the split will be discarded as invalid. Should be >= 1.'): 2, Param(parent='DecisionTreeClassifier_9a02ae462388', name='impurity', doc='Criterion used for information gain calculation (case-insensitive). Supported options: entropy, gini'): 'entropy'}, Metric: 0.8227788249043584\n",
            "Params: {Param(parent='DecisionTreeClassifier_9a02ae462388', name='maxDepth', doc='Maximum depth of the tree. (>= 0) E.g., depth 0 means 1 leaf node; depth 1 means 1 internal node + 2 leaf nodes. Must be in range [0, 30].'): 15, Param(parent='DecisionTreeClassifier_9a02ae462388', name='maxBins', doc='Max number of bins for discretizing continuous features.  Must be >=2 and >= number of categories for any categorical feature.'): 32, Param(parent='DecisionTreeClassifier_9a02ae462388', name='minInstancesPerNode', doc='Minimum number of instances each child must have after split. If a split causes the left or right child to have fewer than minInstancesPerNode, the split will be discarded as invalid. Should be >= 1.'): 4, Param(parent='DecisionTreeClassifier_9a02ae462388', name='impurity', doc='Criterion used for information gain calculation (case-insensitive). Supported options: entropy, gini'): 'gini'}, Metric: 0.7997472367426575\n",
            "Params: {Param(parent='DecisionTreeClassifier_9a02ae462388', name='maxDepth', doc='Maximum depth of the tree. (>= 0) E.g., depth 0 means 1 leaf node; depth 1 means 1 internal node + 2 leaf nodes. Must be in range [0, 30].'): 15, Param(parent='DecisionTreeClassifier_9a02ae462388', name='maxBins', doc='Max number of bins for discretizing continuous features.  Must be >=2 and >= number of categories for any categorical feature.'): 32, Param(parent='DecisionTreeClassifier_9a02ae462388', name='minInstancesPerNode', doc='Minimum number of instances each child must have after split. If a split causes the left or right child to have fewer than minInstancesPerNode, the split will be discarded as invalid. Should be >= 1.'): 4, Param(parent='DecisionTreeClassifier_9a02ae462388', name='impurity', doc='Criterion used for information gain calculation (case-insensitive). Supported options: entropy, gini'): 'entropy'}, Metric: 0.8206129884500097\n",
            "Params: {Param(parent='DecisionTreeClassifier_9a02ae462388', name='maxDepth', doc='Maximum depth of the tree. (>= 0) E.g., depth 0 means 1 leaf node; depth 1 means 1 internal node + 2 leaf nodes. Must be in range [0, 30].'): 15, Param(parent='DecisionTreeClassifier_9a02ae462388', name='maxBins', doc='Max number of bins for discretizing continuous features.  Must be >=2 and >= number of categories for any categorical feature.'): 64, Param(parent='DecisionTreeClassifier_9a02ae462388', name='minInstancesPerNode', doc='Minimum number of instances each child must have after split. If a split causes the left or right child to have fewer than minInstancesPerNode, the split will be discarded as invalid. Should be >= 1.'): 1, Param(parent='DecisionTreeClassifier_9a02ae462388', name='impurity', doc='Criterion used for information gain calculation (case-insensitive). Supported options: entropy, gini'): 'gini'}, Metric: 0.829103638902642\n",
            "Params: {Param(parent='DecisionTreeClassifier_9a02ae462388', name='maxDepth', doc='Maximum depth of the tree. (>= 0) E.g., depth 0 means 1 leaf node; depth 1 means 1 internal node + 2 leaf nodes. Must be in range [0, 30].'): 15, Param(parent='DecisionTreeClassifier_9a02ae462388', name='maxBins', doc='Max number of bins for discretizing continuous features.  Must be >=2 and >= number of categories for any categorical feature.'): 64, Param(parent='DecisionTreeClassifier_9a02ae462388', name='minInstancesPerNode', doc='Minimum number of instances each child must have after split. If a split causes the left or right child to have fewer than minInstancesPerNode, the split will be discarded as invalid. Should be >= 1.'): 1, Param(parent='DecisionTreeClassifier_9a02ae462388', name='impurity', doc='Criterion used for information gain calculation (case-insensitive). Supported options: entropy, gini'): 'entropy'}, Metric: 0.8439399552111346\n",
            "Params: {Param(parent='DecisionTreeClassifier_9a02ae462388', name='maxDepth', doc='Maximum depth of the tree. (>= 0) E.g., depth 0 means 1 leaf node; depth 1 means 1 internal node + 2 leaf nodes. Must be in range [0, 30].'): 15, Param(parent='DecisionTreeClassifier_9a02ae462388', name='maxBins', doc='Max number of bins for discretizing continuous features.  Must be >=2 and >= number of categories for any categorical feature.'): 64, Param(parent='DecisionTreeClassifier_9a02ae462388', name='minInstancesPerNode', doc='Minimum number of instances each child must have after split. If a split causes the left or right child to have fewer than minInstancesPerNode, the split will be discarded as invalid. Should be >= 1.'): 2, Param(parent='DecisionTreeClassifier_9a02ae462388', name='impurity', doc='Criterion used for information gain calculation (case-insensitive). Supported options: entropy, gini'): 'gini'}, Metric: 0.8124584561337521\n",
            "Params: {Param(parent='DecisionTreeClassifier_9a02ae462388', name='maxDepth', doc='Maximum depth of the tree. (>= 0) E.g., depth 0 means 1 leaf node; depth 1 means 1 internal node + 2 leaf nodes. Must be in range [0, 30].'): 15, Param(parent='DecisionTreeClassifier_9a02ae462388', name='maxBins', doc='Max number of bins for discretizing continuous features.  Must be >=2 and >= number of categories for any categorical feature.'): 64, Param(parent='DecisionTreeClassifier_9a02ae462388', name='minInstancesPerNode', doc='Minimum number of instances each child must have after split. If a split causes the left or right child to have fewer than minInstancesPerNode, the split will be discarded as invalid. Should be >= 1.'): 2, Param(parent='DecisionTreeClassifier_9a02ae462388', name='impurity', doc='Criterion used for information gain calculation (case-insensitive). Supported options: entropy, gini'): 'entropy'}, Metric: 0.8328247906167461\n",
            "Params: {Param(parent='DecisionTreeClassifier_9a02ae462388', name='maxDepth', doc='Maximum depth of the tree. (>= 0) E.g., depth 0 means 1 leaf node; depth 1 means 1 internal node + 2 leaf nodes. Must be in range [0, 30].'): 15, Param(parent='DecisionTreeClassifier_9a02ae462388', name='maxBins', doc='Max number of bins for discretizing continuous features.  Must be >=2 and >= number of categories for any categorical feature.'): 64, Param(parent='DecisionTreeClassifier_9a02ae462388', name='minInstancesPerNode', doc='Minimum number of instances each child must have after split. If a split causes the left or right child to have fewer than minInstancesPerNode, the split will be discarded as invalid. Should be >= 1.'): 4, Param(parent='DecisionTreeClassifier_9a02ae462388', name='impurity', doc='Criterion used for information gain calculation (case-insensitive). Supported options: entropy, gini'): 'gini'}, Metric: 0.7938684896488715\n",
            "Params: {Param(parent='DecisionTreeClassifier_9a02ae462388', name='maxDepth', doc='Maximum depth of the tree. (>= 0) E.g., depth 0 means 1 leaf node; depth 1 means 1 internal node + 2 leaf nodes. Must be in range [0, 30].'): 15, Param(parent='DecisionTreeClassifier_9a02ae462388', name='maxBins', doc='Max number of bins for discretizing continuous features.  Must be >=2 and >= number of categories for any categorical feature.'): 64, Param(parent='DecisionTreeClassifier_9a02ae462388', name='minInstancesPerNode', doc='Minimum number of instances each child must have after split. If a split causes the left or right child to have fewer than minInstancesPerNode, the split will be discarded as invalid. Should be >= 1.'): 4, Param(parent='DecisionTreeClassifier_9a02ae462388', name='impurity', doc='Criterion used for information gain calculation (case-insensitive). Supported options: entropy, gini'): 'entropy'}, Metric: 0.8255885708395511\n",
            "Params: {Param(parent='DecisionTreeClassifier_9a02ae462388', name='maxDepth', doc='Maximum depth of the tree. (>= 0) E.g., depth 0 means 1 leaf node; depth 1 means 1 internal node + 2 leaf nodes. Must be in range [0, 30].'): 15, Param(parent='DecisionTreeClassifier_9a02ae462388', name='maxBins', doc='Max number of bins for discretizing continuous features.  Must be >=2 and >= number of categories for any categorical feature.'): 128, Param(parent='DecisionTreeClassifier_9a02ae462388', name='minInstancesPerNode', doc='Minimum number of instances each child must have after split. If a split causes the left or right child to have fewer than minInstancesPerNode, the split will be discarded as invalid. Should be >= 1.'): 1, Param(parent='DecisionTreeClassifier_9a02ae462388', name='impurity', doc='Criterion used for information gain calculation (case-insensitive). Supported options: entropy, gini'): 'gini'}, Metric: 0.8308401838548998\n",
            "Params: {Param(parent='DecisionTreeClassifier_9a02ae462388', name='maxDepth', doc='Maximum depth of the tree. (>= 0) E.g., depth 0 means 1 leaf node; depth 1 means 1 internal node + 2 leaf nodes. Must be in range [0, 30].'): 15, Param(parent='DecisionTreeClassifier_9a02ae462388', name='maxBins', doc='Max number of bins for discretizing continuous features.  Must be >=2 and >= number of categories for any categorical feature.'): 128, Param(parent='DecisionTreeClassifier_9a02ae462388', name='minInstancesPerNode', doc='Minimum number of instances each child must have after split. If a split causes the left or right child to have fewer than minInstancesPerNode, the split will be discarded as invalid. Should be >= 1.'): 1, Param(parent='DecisionTreeClassifier_9a02ae462388', name='impurity', doc='Criterion used for information gain calculation (case-insensitive). Supported options: entropy, gini'): 'entropy'}, Metric: 0.847149414361564\n",
            "Params: {Param(parent='DecisionTreeClassifier_9a02ae462388', name='maxDepth', doc='Maximum depth of the tree. (>= 0) E.g., depth 0 means 1 leaf node; depth 1 means 1 internal node + 2 leaf nodes. Must be in range [0, 30].'): 15, Param(parent='DecisionTreeClassifier_9a02ae462388', name='maxBins', doc='Max number of bins for discretizing continuous features.  Must be >=2 and >= number of categories for any categorical feature.'): 128, Param(parent='DecisionTreeClassifier_9a02ae462388', name='minInstancesPerNode', doc='Minimum number of instances each child must have after split. If a split causes the left or right child to have fewer than minInstancesPerNode, the split will be discarded as invalid. Should be >= 1.'): 2, Param(parent='DecisionTreeClassifier_9a02ae462388', name='impurity', doc='Criterion used for information gain calculation (case-insensitive). Supported options: entropy, gini'): 'gini'}, Metric: 0.816539133935849\n",
            "Params: {Param(parent='DecisionTreeClassifier_9a02ae462388', name='maxDepth', doc='Maximum depth of the tree. (>= 0) E.g., depth 0 means 1 leaf node; depth 1 means 1 internal node + 2 leaf nodes. Must be in range [0, 30].'): 15, Param(parent='DecisionTreeClassifier_9a02ae462388', name='maxBins', doc='Max number of bins for discretizing continuous features.  Must be >=2 and >= number of categories for any categorical feature.'): 128, Param(parent='DecisionTreeClassifier_9a02ae462388', name='minInstancesPerNode', doc='Minimum number of instances each child must have after split. If a split causes the left or right child to have fewer than minInstancesPerNode, the split will be discarded as invalid. Should be >= 1.'): 2, Param(parent='DecisionTreeClassifier_9a02ae462388', name='impurity', doc='Criterion used for information gain calculation (case-insensitive). Supported options: entropy, gini'): 'entropy'}, Metric: 0.8366846629033058\n",
            "Params: {Param(parent='DecisionTreeClassifier_9a02ae462388', name='maxDepth', doc='Maximum depth of the tree. (>= 0) E.g., depth 0 means 1 leaf node; depth 1 means 1 internal node + 2 leaf nodes. Must be in range [0, 30].'): 15, Param(parent='DecisionTreeClassifier_9a02ae462388', name='maxBins', doc='Max number of bins for discretizing continuous features.  Must be >=2 and >= number of categories for any categorical feature.'): 128, Param(parent='DecisionTreeClassifier_9a02ae462388', name='minInstancesPerNode', doc='Minimum number of instances each child must have after split. If a split causes the left or right child to have fewer than minInstancesPerNode, the split will be discarded as invalid. Should be >= 1.'): 4, Param(parent='DecisionTreeClassifier_9a02ae462388', name='impurity', doc='Criterion used for information gain calculation (case-insensitive). Supported options: entropy, gini'): 'gini'}, Metric: 0.8100968364041684\n",
            "Params: {Param(parent='DecisionTreeClassifier_9a02ae462388', name='maxDepth', doc='Maximum depth of the tree. (>= 0) E.g., depth 0 means 1 leaf node; depth 1 means 1 internal node + 2 leaf nodes. Must be in range [0, 30].'): 15, Param(parent='DecisionTreeClassifier_9a02ae462388', name='maxBins', doc='Max number of bins for discretizing continuous features.  Must be >=2 and >= number of categories for any categorical feature.'): 128, Param(parent='DecisionTreeClassifier_9a02ae462388', name='minInstancesPerNode', doc='Minimum number of instances each child must have after split. If a split causes the left or right child to have fewer than minInstancesPerNode, the split will be discarded as invalid. Should be >= 1.'): 4, Param(parent='DecisionTreeClassifier_9a02ae462388', name='impurity', doc='Criterion used for information gain calculation (case-insensitive). Supported options: entropy, gini'): 'entropy'}, Metric: 0.8255649404751507\n"
          ]
        }
      ]
    },
    {
      "cell_type": "code",
      "source": [
        "best_model_DT = cv_DT_Model.bestModel\n",
        "\n",
        "# Get the parameters of the best model\n",
        "best_model_params = best_model_DT.extractParamMap()\n",
        "\n",
        "print(\"Parameters of the Best Model:\")\n",
        "for param, value in best_model_params.items():\n",
        "    print(f\"{param.name}: {value}\")"
      ],
      "metadata": {
        "colab": {
          "base_uri": "https://localhost:8080/"
        },
        "id": "ya6PL0vWKpT4",
        "outputId": "65111ee9-1dc5-4b1d-bd02-ac69548ca6a1"
      },
      "execution_count": 86,
      "outputs": [
        {
          "output_type": "stream",
          "name": "stdout",
          "text": [
            "Parameters of the Best Model:\n",
            "cacheNodeIds: False\n",
            "checkpointInterval: 10\n",
            "featuresCol: features\n",
            "impurity: entropy\n",
            "labelCol: label\n",
            "leafCol: \n",
            "maxBins: 128\n",
            "maxDepth: 15\n",
            "maxMemoryInMB: 256\n",
            "minInfoGain: 0.0\n",
            "minInstancesPerNode: 1\n",
            "minWeightFractionPerNode: 0.0\n",
            "predictionCol: prediction\n",
            "probabilityCol: probability\n",
            "rawPredictionCol: rawPrediction\n",
            "seed: 3683280828326119655\n"
          ]
        }
      ]
    },
    {
      "cell_type": "code",
      "source": [
        "train_predictions = best_model_DT.transform(df_train)\n",
        "test_predictions = best_model_DT.transform(df_test.withColumnRenamed('incomeIndex','label'))\n",
        "\n",
        "print(f\"Train accuracy: {Accuracy_calc.evaluate(train_predictions):.3f}\")\n",
        "print(f\"Train F1_score: {F1_calc.evaluate(train_predictions):.3f}\")\n",
        "print(f\"Train AU-ROC: {AU_ROC_calc.evaluate(train_predictions):.3f}\")\n",
        "\n",
        "print('\\n')\n",
        "print(f\"Test AU-ROC {AU_ROC_calc.evaluate(test_predictions):.3f}\")\n",
        "print(f\"Test accuracy {Accuracy_calc.evaluate(test_predictions):.3f}\")\n",
        "print(f\"Test F1_score {F1_calc.evaluate(test_predictions):.3f}\")"
      ],
      "metadata": {
        "colab": {
          "base_uri": "https://localhost:8080/"
        },
        "id": "kGst1SbcKvnl",
        "outputId": "93d12ba8-4a7a-4d72-aaf5-c218d0219032"
      },
      "execution_count": 87,
      "outputs": [
        {
          "output_type": "stream",
          "name": "stdout",
          "text": [
            "Train accuracy: 0.897\n",
            "Train F1_score: 0.897\n",
            "Train AU-ROC: 0.868\n",
            "\n",
            "\n",
            "Test AU-ROC 0.823\n",
            "Test accuracy 0.811\n",
            "Test F1_score 0.821\n"
          ]
        }
      ]
    },
    {
      "cell_type": "code",
      "source": [
        "from pyspark.ml.classification import RandomForestClassifier\n",
        "\n",
        "\n",
        "RF = RandomForestClassifier(featuresCol = 'features', labelCol = 'label')\n",
        "RF_benchmark = RF.fit(df_train)\n",
        "\n",
        "train_predictions = RF_benchmark.transform(df_train)\n",
        "test_predictions = RF_benchmark.transform(df_test.withColumnRenamed('incomeIndex','label'))\n",
        "\n",
        "print(f\"Train accuracy: {Accuracy_calc.evaluate(train_predictions):.3f}\")\n",
        "print(f\"Train F1_score: {F1_calc.evaluate(train_predictions):.3f}\")\n",
        "print(f\"Train AU-ROC: {AU_ROC_calc.evaluate(train_predictions):.3f}\")\n",
        "#print(f\"Recall for class 0: {DT_benchmark.summary.recallByLabel[0]:.3f} for class 1: {DT_benchmark.summary.recallByLabel[0]:.3f}\")\n",
        "#print(f\"Precision for class 0: {DT_benchmark.summary.precisionByLabel[0]:.3f} for class 1: {DT_benchmark.summary.precisionByLabel[0]:.3f}\")\n",
        "print('\\n')\n",
        "print(f\"Test AU-ROC {AU_ROC_calc.evaluate(test_predictions):.3f}\")\n",
        "print(f\"Test accuracy {Accuracy_calc.evaluate(test_predictions):.3f}\")\n",
        "print(f\"Test F1_score {F1_calc.evaluate(test_predictions):.3f}\")"
      ],
      "metadata": {
        "colab": {
          "base_uri": "https://localhost:8080/"
        },
        "id": "3VFzvvV8RSDj",
        "outputId": "eb84ed94-62ae-45ca-c28c-7d32813268f5"
      },
      "execution_count": 88,
      "outputs": [
        {
          "output_type": "stream",
          "name": "stdout",
          "text": [
            "Train accuracy: 0.787\n",
            "Train F1_score: 0.785\n",
            "Train AU-ROC: 0.888\n",
            "\n",
            "\n",
            "Test AU-ROC 0.867\n",
            "Test accuracy 0.722\n",
            "Test F1_score 0.743\n"
          ]
        }
      ]
    },
    {
      "cell_type": "code",
      "source": [
        "RF_tuned = RandomForestClassifier(labelCol=\"label\", featuresCol=\"features\")\n",
        "\n",
        "paramGrid = ParamGridBuilder() \\\n",
        "    .addGrid(RF_tuned.maxDepth, [5, 15]) \\\n",
        "    .addGrid(RF_tuned.numTrees, [20, 50]) \\\n",
        "    .addGrid(RF_tuned.featureSubsetStrategy, ['auto', 'sqrt', 'log2']) \\\n",
        "    .addGrid(RF_tuned.subsamplingRate, [0.6, 0.8]) \\\n",
        "    .build()\n",
        "\n",
        "\n",
        "crossval = CrossValidator(estimator=RF_tuned,\n",
        "                          estimatorParamMaps=paramGrid,\n",
        "                          evaluator=AU_ROC_calc,\n",
        "                          numFolds=5,\n",
        "                          parallelism=4)\n",
        "\n",
        "cv_RF_Model = crossval.fit(df_train)"
      ],
      "metadata": {
        "id": "17T-Wu3tSVTC"
      },
      "execution_count": null,
      "outputs": []
    },
    {
      "cell_type": "code",
      "source": [
        "for params, metric in zip(paramGrid, cv_RF_Model.avgMetrics):\n",
        "    print(f\"Params: {params}, Metric: {metric}\")"
      ],
      "metadata": {
        "id": "DW_7kaV5VLaG"
      },
      "execution_count": null,
      "outputs": []
    },
    {
      "cell_type": "code",
      "source": [
        "best_model_RF = cv_RF_Model.bestModel\n",
        "\n",
        "# Get the parameters of the best model\n",
        "best_model_params = best_model_RF.extractParamMap()\n",
        "\n",
        "print(\"Parameters of the Best Model:\")\n",
        "for param, value in best_model_params.items():\n",
        "    print(f\"{param.name}: {value}\")"
      ],
      "metadata": {
        "id": "CK0-cVZYVQgZ"
      },
      "execution_count": null,
      "outputs": []
    },
    {
      "cell_type": "code",
      "source": [
        "train_predictions = best_model_RF.transform(df_train)\n",
        "test_predictions = best_model_RF.transform(df_test.withColumnRenamed('incomeIndex','label'))\n",
        "\n",
        "print(f\"Train accuracy: {Accuracy_calc.evaluate(train_predictions):.3f}\")\n",
        "print(f\"Train F1_score: {F1_calc.evaluate(train_predictions):.3f}\")\n",
        "print(f\"Train AU-ROC: {AU_ROC_calc.evaluate(train_predictions):.3f}\")\n",
        "\n",
        "print('\\n')\n",
        "print(f\"Test AU-ROC {AU_ROC_calc.evaluate(test_predictions):.3f}\")\n",
        "print(f\"Test accuracy {Accuracy_calc.evaluate(test_predictions):.3f}\")\n",
        "print(f\"Test F1_score {F1_calc.evaluate(test_predictions):.3f}\")"
      ],
      "metadata": {
        "id": "CXmFSYGlVE0U"
      },
      "execution_count": null,
      "outputs": []
    },
    {
      "cell_type": "code",
      "source": [],
      "metadata": {
        "id": "MDdCy_-0oIKt"
      },
      "execution_count": null,
      "outputs": []
    }
  ]
}